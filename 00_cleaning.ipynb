{
 "cells": [
  {
   "cell_type": "code",
   "execution_count": 1,
   "metadata": {
    "collapsed": true
   },
   "outputs": [],
   "source": [
    "import os \n",
    "import re\n",
    "\n",
    "import pandas as pd\n",
    "import numpy as np\n",
    "import requests\n",
    "import bs4\n",
    "import seaborn as sns\n",
    "from matplotlib import pyplot as plt\n",
    "%matplotlib inline"
   ]
  },
  {
   "cell_type": "markdown",
   "metadata": {},
   "source": [
    "# Read data and check data status"
   ]
  },
  {
   "cell_type": "code",
   "execution_count": 2,
   "metadata": {
    "collapsed": true
   },
   "outputs": [],
   "source": [
    "games = pd.read_csv('data/games_detail.csv')"
   ]
  },
  {
   "cell_type": "code",
   "execution_count": 3,
   "metadata": {
    "collapsed": false
   },
   "outputs": [
    {
     "name": "stdout",
     "output_type": "stream",
     "text": [
      "<class 'pandas.core.frame.DataFrame'>\n",
      "RangeIndex: 88118 entries, 0 to 88117\n",
      "Data columns (total 26 columns):\n",
      "id                      88118 non-null int64\n",
      "type                    88118 non-null object\n",
      "name                    88118 non-null object\n",
      "n_names                 88118 non-null int64\n",
      "yearpublished           88115 non-null float64\n",
      "description             88118 non-null object\n",
      "minplayers              88115 non-null float64\n",
      "maxplayers              88115 non-null float64\n",
      "playingtime             88115 non-null float64\n",
      "minplaytime             88115 non-null float64\n",
      "maxplaytime             88115 non-null float64\n",
      "minage                  88115 non-null float64\n",
      "mechanic                73041 non-null object\n",
      "subdomain               20559 non-null object\n",
      "category                86620 non-null object\n",
      "lang_dep                20353 non-null object\n",
      "users_rated             88118 non-null int64\n",
      "average_rating          88118 non-null float64\n",
      "bayes_average_rating    88118 non-null float64\n",
      "total_owners            88118 non-null int64\n",
      "total_traders           88118 non-null int64\n",
      "total_wanters           88118 non-null int64\n",
      "total_wishers           88118 non-null int64\n",
      "total_comments          88118 non-null int64\n",
      "total_weights           88118 non-null int64\n",
      "average_weight          88118 non-null float64\n",
      "dtypes: float64(10), int64(9), object(7)\n",
      "memory usage: 17.5+ MB\n"
     ]
    }
   ],
   "source": [
    "games.info()"
   ]
  },
  {
   "cell_type": "code",
   "execution_count": 4,
   "metadata": {
    "collapsed": false
   },
   "outputs": [
    {
     "data": {
      "text/html": [
       "<div>\n",
       "<table border=\"1\" class=\"dataframe\">\n",
       "  <thead>\n",
       "    <tr style=\"text-align: right;\">\n",
       "      <th></th>\n",
       "      <th>id</th>\n",
       "      <th>type</th>\n",
       "      <th>name</th>\n",
       "      <th>n_names</th>\n",
       "      <th>yearpublished</th>\n",
       "      <th>description</th>\n",
       "      <th>minplayers</th>\n",
       "      <th>maxplayers</th>\n",
       "      <th>playingtime</th>\n",
       "      <th>minplaytime</th>\n",
       "      <th>...</th>\n",
       "      <th>users_rated</th>\n",
       "      <th>average_rating</th>\n",
       "      <th>bayes_average_rating</th>\n",
       "      <th>total_owners</th>\n",
       "      <th>total_traders</th>\n",
       "      <th>total_wanters</th>\n",
       "      <th>total_wishers</th>\n",
       "      <th>total_comments</th>\n",
       "      <th>total_weights</th>\n",
       "      <th>average_weight</th>\n",
       "    </tr>\n",
       "  </thead>\n",
       "  <tbody>\n",
       "    <tr>\n",
       "      <th>0</th>\n",
       "      <td>89371</td>\n",
       "      <td>boardgame</td>\n",
       "      <td>The Russo-Georgian War of 2008</td>\n",
       "      <td>1</td>\n",
       "      <td>2010.0</td>\n",
       "      <td>The Russo-Georgian War of 2008 is a DTP simula...</td>\n",
       "      <td>1.0</td>\n",
       "      <td>2.0</td>\n",
       "      <td>90.0</td>\n",
       "      <td>90.0</td>\n",
       "      <td>...</td>\n",
       "      <td>8</td>\n",
       "      <td>7.31250</td>\n",
       "      <td>0.0000</td>\n",
       "      <td>21</td>\n",
       "      <td>0</td>\n",
       "      <td>4</td>\n",
       "      <td>4</td>\n",
       "      <td>4</td>\n",
       "      <td>1</td>\n",
       "      <td>3.0000</td>\n",
       "    </tr>\n",
       "    <tr>\n",
       "      <th>1</th>\n",
       "      <td>89376</td>\n",
       "      <td>boardgame</td>\n",
       "      <td>Früher oder Später</td>\n",
       "      <td>1</td>\n",
       "      <td>2009.0</td>\n",
       "      <td>Fr&amp;uuml;her oder Sp&amp;auml;ter is a card game is...</td>\n",
       "      <td>2.0</td>\n",
       "      <td>5.0</td>\n",
       "      <td>30.0</td>\n",
       "      <td>30.0</td>\n",
       "      <td>...</td>\n",
       "      <td>1</td>\n",
       "      <td>4.00000</td>\n",
       "      <td>0.0000</td>\n",
       "      <td>3</td>\n",
       "      <td>1</td>\n",
       "      <td>0</td>\n",
       "      <td>0</td>\n",
       "      <td>0</td>\n",
       "      <td>1</td>\n",
       "      <td>1.0000</td>\n",
       "    </tr>\n",
       "    <tr>\n",
       "      <th>2</th>\n",
       "      <td>89378</td>\n",
       "      <td>boardgame</td>\n",
       "      <td>Supervivencia</td>\n",
       "      <td>1</td>\n",
       "      <td>1990.0</td>\n",
       "      <td>A game about survival. The players represent a...</td>\n",
       "      <td>2.0</td>\n",
       "      <td>6.0</td>\n",
       "      <td>80.0</td>\n",
       "      <td>80.0</td>\n",
       "      <td>...</td>\n",
       "      <td>1</td>\n",
       "      <td>5.00000</td>\n",
       "      <td>0.0000</td>\n",
       "      <td>0</td>\n",
       "      <td>0</td>\n",
       "      <td>0</td>\n",
       "      <td>0</td>\n",
       "      <td>1</td>\n",
       "      <td>1</td>\n",
       "      <td>2.0000</td>\n",
       "    </tr>\n",
       "    <tr>\n",
       "      <th>3</th>\n",
       "      <td>5988</td>\n",
       "      <td>boardgame</td>\n",
       "      <td>Wings Over France</td>\n",
       "      <td>1</td>\n",
       "      <td>1992.0</td>\n",
       "      <td>Wings Over France is a solitaire WWI wargame, ...</td>\n",
       "      <td>1.0</td>\n",
       "      <td>1.0</td>\n",
       "      <td>60.0</td>\n",
       "      <td>60.0</td>\n",
       "      <td>...</td>\n",
       "      <td>46</td>\n",
       "      <td>7.47826</td>\n",
       "      <td>5.5944</td>\n",
       "      <td>107</td>\n",
       "      <td>7</td>\n",
       "      <td>25</td>\n",
       "      <td>66</td>\n",
       "      <td>29</td>\n",
       "      <td>9</td>\n",
       "      <td>3.2222</td>\n",
       "    </tr>\n",
       "    <tr>\n",
       "      <th>4</th>\n",
       "      <td>40134</td>\n",
       "      <td>boardgame</td>\n",
       "      <td>Le Tour Cycliste</td>\n",
       "      <td>1</td>\n",
       "      <td>0.0</td>\n",
       "      <td>French cycling game released at the end of the...</td>\n",
       "      <td>2.0</td>\n",
       "      <td>6.0</td>\n",
       "      <td>0.0</td>\n",
       "      <td>0.0</td>\n",
       "      <td>...</td>\n",
       "      <td>0</td>\n",
       "      <td>0.00000</td>\n",
       "      <td>0.0000</td>\n",
       "      <td>1</td>\n",
       "      <td>0</td>\n",
       "      <td>0</td>\n",
       "      <td>1</td>\n",
       "      <td>0</td>\n",
       "      <td>0</td>\n",
       "      <td>0.0000</td>\n",
       "    </tr>\n",
       "  </tbody>\n",
       "</table>\n",
       "<p>5 rows × 26 columns</p>\n",
       "</div>"
      ],
      "text/plain": [
       "      id       type                            name  n_names  yearpublished  \\\n",
       "0  89371  boardgame  The Russo-Georgian War of 2008        1         2010.0   \n",
       "1  89376  boardgame              Früher oder Später        1         2009.0   \n",
       "2  89378  boardgame                   Supervivencia        1         1990.0   \n",
       "3   5988  boardgame               Wings Over France        1         1992.0   \n",
       "4  40134  boardgame                Le Tour Cycliste        1            0.0   \n",
       "\n",
       "                                         description  minplayers  maxplayers  \\\n",
       "0  The Russo-Georgian War of 2008 is a DTP simula...         1.0         2.0   \n",
       "1  Fr&uuml;her oder Sp&auml;ter is a card game is...         2.0         5.0   \n",
       "2  A game about survival. The players represent a...         2.0         6.0   \n",
       "3  Wings Over France is a solitaire WWI wargame, ...         1.0         1.0   \n",
       "4  French cycling game released at the end of the...         2.0         6.0   \n",
       "\n",
       "   playingtime  minplaytime       ...        users_rated  average_rating  \\\n",
       "0         90.0         90.0       ...                  8         7.31250   \n",
       "1         30.0         30.0       ...                  1         4.00000   \n",
       "2         80.0         80.0       ...                  1         5.00000   \n",
       "3         60.0         60.0       ...                 46         7.47826   \n",
       "4          0.0          0.0       ...                  0         0.00000   \n",
       "\n",
       "  bayes_average_rating total_owners total_traders total_wanters  \\\n",
       "0               0.0000           21             0             4   \n",
       "1               0.0000            3             1             0   \n",
       "2               0.0000            0             0             0   \n",
       "3               5.5944          107             7            25   \n",
       "4               0.0000            1             0             0   \n",
       "\n",
       "   total_wishers  total_comments  total_weights  average_weight  \n",
       "0              4               4              1          3.0000  \n",
       "1              0               0              1          1.0000  \n",
       "2              0               1              1          2.0000  \n",
       "3             66              29              9          3.2222  \n",
       "4              1               0              0          0.0000  \n",
       "\n",
       "[5 rows x 26 columns]"
      ]
     },
     "execution_count": 4,
     "metadata": {},
     "output_type": "execute_result"
    }
   ],
   "source": [
    "games.head()"
   ]
  },
  {
   "cell_type": "code",
   "execution_count": 5,
   "metadata": {
    "collapsed": false
   },
   "outputs": [
    {
     "data": {
      "text/plain": [
       "0"
      ]
     },
     "execution_count": 5,
     "metadata": {},
     "output_type": "execute_result"
    }
   ],
   "source": [
    "# check if there is any duplication data due to faulty data processing\n",
    "games.duplicated().sum()"
   ]
  },
  {
   "cell_type": "code",
   "execution_count": 6,
   "metadata": {
    "collapsed": false
   },
   "outputs": [
    {
     "data": {
      "text/plain": [
       "id                      0.000000\n",
       "type                    0.000000\n",
       "name                    0.000000\n",
       "n_names                 0.000000\n",
       "yearpublished           0.000034\n",
       "description             0.000000\n",
       "minplayers              0.000034\n",
       "maxplayers              0.000034\n",
       "playingtime             0.000034\n",
       "minplaytime             0.000034\n",
       "maxplaytime             0.000034\n",
       "minage                  0.000034\n",
       "mechanic                0.171100\n",
       "subdomain               0.766688\n",
       "category                0.017000\n",
       "lang_dep                0.769026\n",
       "users_rated             0.000000\n",
       "average_rating          0.000000\n",
       "bayes_average_rating    0.000000\n",
       "total_owners            0.000000\n",
       "total_traders           0.000000\n",
       "total_wanters           0.000000\n",
       "total_wishers           0.000000\n",
       "total_comments          0.000000\n",
       "total_weights           0.000000\n",
       "average_weight          0.000000\n",
       "dtype: float64"
      ]
     },
     "execution_count": 6,
     "metadata": {},
     "output_type": "execute_result"
    }
   ],
   "source": [
    "# check if there are columns with large portion of null value\n",
    "games.isnull().sum() / games.shape[0]"
   ]
  },
  {
   "cell_type": "markdown",
   "metadata": {},
   "source": [
    "# Clean null data"
   ]
  },
  {
   "cell_type": "code",
   "execution_count": 7,
   "metadata": {
    "collapsed": true
   },
   "outputs": [],
   "source": [
    "# Keep the original copy in memory for future use\n",
    "games_cleaned = games.copy()"
   ]
  },
  {
   "cell_type": "code",
   "execution_count": 8,
   "metadata": {
    "collapsed": true
   },
   "outputs": [],
   "source": [
    "# drop two columns which contain many null values\n",
    "games_cleaned.drop(labels=['subdomain', 'lang_dep'], axis=1, inplace=True)"
   ]
  },
  {
   "cell_type": "code",
   "execution_count": 9,
   "metadata": {
    "collapsed": false,
    "scrolled": false
   },
   "outputs": [
    {
     "data": {
      "text/html": [
       "<div>\n",
       "<table border=\"1\" class=\"dataframe\">\n",
       "  <thead>\n",
       "    <tr style=\"text-align: right;\">\n",
       "      <th></th>\n",
       "      <th>0</th>\n",
       "      <th>1</th>\n",
       "    </tr>\n",
       "  </thead>\n",
       "  <tbody>\n",
       "    <tr>\n",
       "      <th>id</th>\n",
       "      <td>0.000000</td>\n",
       "      <td>0</td>\n",
       "    </tr>\n",
       "    <tr>\n",
       "      <th>type</th>\n",
       "      <td>0.000000</td>\n",
       "      <td>0</td>\n",
       "    </tr>\n",
       "    <tr>\n",
       "      <th>name</th>\n",
       "      <td>0.000000</td>\n",
       "      <td>0</td>\n",
       "    </tr>\n",
       "    <tr>\n",
       "      <th>n_names</th>\n",
       "      <td>0.000000</td>\n",
       "      <td>0</td>\n",
       "    </tr>\n",
       "    <tr>\n",
       "      <th>yearpublished</th>\n",
       "      <td>0.000034</td>\n",
       "      <td>3</td>\n",
       "    </tr>\n",
       "    <tr>\n",
       "      <th>description</th>\n",
       "      <td>0.000000</td>\n",
       "      <td>0</td>\n",
       "    </tr>\n",
       "    <tr>\n",
       "      <th>minplayers</th>\n",
       "      <td>0.000034</td>\n",
       "      <td>3</td>\n",
       "    </tr>\n",
       "    <tr>\n",
       "      <th>maxplayers</th>\n",
       "      <td>0.000034</td>\n",
       "      <td>3</td>\n",
       "    </tr>\n",
       "    <tr>\n",
       "      <th>playingtime</th>\n",
       "      <td>0.000034</td>\n",
       "      <td>3</td>\n",
       "    </tr>\n",
       "    <tr>\n",
       "      <th>minplaytime</th>\n",
       "      <td>0.000034</td>\n",
       "      <td>3</td>\n",
       "    </tr>\n",
       "    <tr>\n",
       "      <th>maxplaytime</th>\n",
       "      <td>0.000034</td>\n",
       "      <td>3</td>\n",
       "    </tr>\n",
       "    <tr>\n",
       "      <th>minage</th>\n",
       "      <td>0.000034</td>\n",
       "      <td>3</td>\n",
       "    </tr>\n",
       "    <tr>\n",
       "      <th>mechanic</th>\n",
       "      <td>0.171100</td>\n",
       "      <td>15077</td>\n",
       "    </tr>\n",
       "    <tr>\n",
       "      <th>category</th>\n",
       "      <td>0.017000</td>\n",
       "      <td>1498</td>\n",
       "    </tr>\n",
       "    <tr>\n",
       "      <th>users_rated</th>\n",
       "      <td>0.000000</td>\n",
       "      <td>0</td>\n",
       "    </tr>\n",
       "    <tr>\n",
       "      <th>average_rating</th>\n",
       "      <td>0.000000</td>\n",
       "      <td>0</td>\n",
       "    </tr>\n",
       "    <tr>\n",
       "      <th>bayes_average_rating</th>\n",
       "      <td>0.000000</td>\n",
       "      <td>0</td>\n",
       "    </tr>\n",
       "    <tr>\n",
       "      <th>total_owners</th>\n",
       "      <td>0.000000</td>\n",
       "      <td>0</td>\n",
       "    </tr>\n",
       "    <tr>\n",
       "      <th>total_traders</th>\n",
       "      <td>0.000000</td>\n",
       "      <td>0</td>\n",
       "    </tr>\n",
       "    <tr>\n",
       "      <th>total_wanters</th>\n",
       "      <td>0.000000</td>\n",
       "      <td>0</td>\n",
       "    </tr>\n",
       "    <tr>\n",
       "      <th>total_wishers</th>\n",
       "      <td>0.000000</td>\n",
       "      <td>0</td>\n",
       "    </tr>\n",
       "    <tr>\n",
       "      <th>total_comments</th>\n",
       "      <td>0.000000</td>\n",
       "      <td>0</td>\n",
       "    </tr>\n",
       "    <tr>\n",
       "      <th>total_weights</th>\n",
       "      <td>0.000000</td>\n",
       "      <td>0</td>\n",
       "    </tr>\n",
       "    <tr>\n",
       "      <th>average_weight</th>\n",
       "      <td>0.000000</td>\n",
       "      <td>0</td>\n",
       "    </tr>\n",
       "  </tbody>\n",
       "</table>\n",
       "</div>"
      ],
      "text/plain": [
       "                             0      1\n",
       "id                    0.000000      0\n",
       "type                  0.000000      0\n",
       "name                  0.000000      0\n",
       "n_names               0.000000      0\n",
       "yearpublished         0.000034      3\n",
       "description           0.000000      0\n",
       "minplayers            0.000034      3\n",
       "maxplayers            0.000034      3\n",
       "playingtime           0.000034      3\n",
       "minplaytime           0.000034      3\n",
       "maxplaytime           0.000034      3\n",
       "minage                0.000034      3\n",
       "mechanic              0.171100  15077\n",
       "category              0.017000   1498\n",
       "users_rated           0.000000      0\n",
       "average_rating        0.000000      0\n",
       "bayes_average_rating  0.000000      0\n",
       "total_owners          0.000000      0\n",
       "total_traders         0.000000      0\n",
       "total_wanters         0.000000      0\n",
       "total_wishers         0.000000      0\n",
       "total_comments        0.000000      0\n",
       "total_weights         0.000000      0\n",
       "average_weight        0.000000      0"
      ]
     },
     "execution_count": 9,
     "metadata": {},
     "output_type": "execute_result"
    }
   ],
   "source": [
    "# check the distribution of null data\n",
    "pd.concat([games_cleaned.isnull().sum() / games_cleaned.shape[0], games_cleaned.isnull().sum()], axis=1)"
   ]
  },
  {
   "cell_type": "code",
   "execution_count": 10,
   "metadata": {
    "collapsed": true
   },
   "outputs": [],
   "source": [
    "# drop rows contain null data\n",
    "games_cleaned.dropna(inplace=True)"
   ]
  },
  {
   "cell_type": "code",
   "execution_count": 11,
   "metadata": {
    "collapsed": false
   },
   "outputs": [
    {
     "data": {
      "text/plain": [
       "(72180, 24)"
      ]
     },
     "execution_count": 11,
     "metadata": {},
     "output_type": "execute_result"
    }
   ],
   "source": [
    "# check remaining data\n",
    "games_cleaned.shape"
   ]
  },
  {
   "cell_type": "markdown",
   "metadata": {},
   "source": [
    "# Clean unusual or unreasonable data"
   ]
  },
  {
   "cell_type": "code",
   "execution_count": 12,
   "metadata": {
    "collapsed": false
   },
   "outputs": [
    {
     "data": {
      "text/html": [
       "<div>\n",
       "<table border=\"1\" class=\"dataframe\">\n",
       "  <thead>\n",
       "    <tr style=\"text-align: right;\">\n",
       "      <th></th>\n",
       "      <th>id</th>\n",
       "      <th>n_names</th>\n",
       "      <th>yearpublished</th>\n",
       "      <th>minplayers</th>\n",
       "      <th>maxplayers</th>\n",
       "      <th>playingtime</th>\n",
       "      <th>minplaytime</th>\n",
       "      <th>maxplaytime</th>\n",
       "      <th>minage</th>\n",
       "      <th>users_rated</th>\n",
       "      <th>average_rating</th>\n",
       "      <th>bayes_average_rating</th>\n",
       "      <th>total_owners</th>\n",
       "      <th>total_traders</th>\n",
       "      <th>total_wanters</th>\n",
       "      <th>total_wishers</th>\n",
       "      <th>total_comments</th>\n",
       "      <th>total_weights</th>\n",
       "      <th>average_weight</th>\n",
       "    </tr>\n",
       "  </thead>\n",
       "  <tbody>\n",
       "    <tr>\n",
       "      <th>count</th>\n",
       "      <td>72180.000000</td>\n",
       "      <td>72180.000000</td>\n",
       "      <td>72180.000000</td>\n",
       "      <td>72180.000000</td>\n",
       "      <td>72180.000000</td>\n",
       "      <td>72180.000000</td>\n",
       "      <td>72180.000000</td>\n",
       "      <td>72180.000000</td>\n",
       "      <td>72180.000000</td>\n",
       "      <td>72180.000000</td>\n",
       "      <td>72180.000000</td>\n",
       "      <td>72180.000000</td>\n",
       "      <td>72180.000000</td>\n",
       "      <td>72180.000000</td>\n",
       "      <td>72180.000000</td>\n",
       "      <td>72180.000000</td>\n",
       "      <td>72180.000000</td>\n",
       "      <td>72180.000000</td>\n",
       "      <td>72180.000000</td>\n",
       "    </tr>\n",
       "    <tr>\n",
       "      <th>mean</th>\n",
       "      <td>86667.107828</td>\n",
       "      <td>1.529371</td>\n",
       "      <td>1824.841147</td>\n",
       "      <td>2.004253</td>\n",
       "      <td>5.848698</td>\n",
       "      <td>57.924079</td>\n",
       "      <td>51.577515</td>\n",
       "      <td>57.121239</td>\n",
       "      <td>7.383416</td>\n",
       "      <td>141.052909</td>\n",
       "      <td>4.429646</td>\n",
       "      <td>1.246493</td>\n",
       "      <td>263.196426</td>\n",
       "      <td>8.785425</td>\n",
       "      <td>10.903893</td>\n",
       "      <td>39.004807</td>\n",
       "      <td>41.416223</td>\n",
       "      <td>12.210779</td>\n",
       "      <td>0.946668</td>\n",
       "    </tr>\n",
       "    <tr>\n",
       "      <th>std</th>\n",
       "      <td>68146.635229</td>\n",
       "      <td>4.621345</td>\n",
       "      <td>566.218378</td>\n",
       "      <td>0.860355</td>\n",
       "      <td>59.314011</td>\n",
       "      <td>366.763899</td>\n",
       "      <td>352.961738</td>\n",
       "      <td>366.794762</td>\n",
       "      <td>5.015978</td>\n",
       "      <td>1113.145838</td>\n",
       "      <td>2.880982</td>\n",
       "      <td>2.380059</td>\n",
       "      <td>1560.568889</td>\n",
       "      <td>38.733187</td>\n",
       "      <td>53.608424</td>\n",
       "      <td>235.104995</td>\n",
       "      <td>254.530998</td>\n",
       "      <td>95.353399</td>\n",
       "      <td>1.193385</td>\n",
       "    </tr>\n",
       "    <tr>\n",
       "      <th>min</th>\n",
       "      <td>1.000000</td>\n",
       "      <td>1.000000</td>\n",
       "      <td>-3500.000000</td>\n",
       "      <td>0.000000</td>\n",
       "      <td>0.000000</td>\n",
       "      <td>0.000000</td>\n",
       "      <td>0.000000</td>\n",
       "      <td>0.000000</td>\n",
       "      <td>0.000000</td>\n",
       "      <td>0.000000</td>\n",
       "      <td>0.000000</td>\n",
       "      <td>0.000000</td>\n",
       "      <td>0.000000</td>\n",
       "      <td>0.000000</td>\n",
       "      <td>0.000000</td>\n",
       "      <td>0.000000</td>\n",
       "      <td>0.000000</td>\n",
       "      <td>0.000000</td>\n",
       "      <td>0.000000</td>\n",
       "    </tr>\n",
       "    <tr>\n",
       "      <th>25%</th>\n",
       "      <td>24134.750000</td>\n",
       "      <td>1.000000</td>\n",
       "      <td>1987.000000</td>\n",
       "      <td>2.000000</td>\n",
       "      <td>2.000000</td>\n",
       "      <td>10.000000</td>\n",
       "      <td>10.000000</td>\n",
       "      <td>10.000000</td>\n",
       "      <td>3.000000</td>\n",
       "      <td>0.000000</td>\n",
       "      <td>0.000000</td>\n",
       "      <td>0.000000</td>\n",
       "      <td>2.000000</td>\n",
       "      <td>0.000000</td>\n",
       "      <td>0.000000</td>\n",
       "      <td>0.000000</td>\n",
       "      <td>0.000000</td>\n",
       "      <td>0.000000</td>\n",
       "      <td>0.000000</td>\n",
       "    </tr>\n",
       "    <tr>\n",
       "      <th>50%</th>\n",
       "      <td>67290.500000</td>\n",
       "      <td>1.000000</td>\n",
       "      <td>2005.000000</td>\n",
       "      <td>2.000000</td>\n",
       "      <td>4.000000</td>\n",
       "      <td>30.000000</td>\n",
       "      <td>30.000000</td>\n",
       "      <td>30.000000</td>\n",
       "      <td>8.000000</td>\n",
       "      <td>3.000000</td>\n",
       "      <td>5.500000</td>\n",
       "      <td>0.000000</td>\n",
       "      <td>9.000000</td>\n",
       "      <td>0.000000</td>\n",
       "      <td>0.000000</td>\n",
       "      <td>1.000000</td>\n",
       "      <td>2.000000</td>\n",
       "      <td>0.000000</td>\n",
       "      <td>0.000000</td>\n",
       "    </tr>\n",
       "    <tr>\n",
       "      <th>75%</th>\n",
       "      <td>150703.250000</td>\n",
       "      <td>1.000000</td>\n",
       "      <td>2012.000000</td>\n",
       "      <td>2.000000</td>\n",
       "      <td>6.000000</td>\n",
       "      <td>60.000000</td>\n",
       "      <td>60.000000</td>\n",
       "      <td>60.000000</td>\n",
       "      <td>12.000000</td>\n",
       "      <td>21.000000</td>\n",
       "      <td>6.735702</td>\n",
       "      <td>0.000000</td>\n",
       "      <td>70.000000</td>\n",
       "      <td>3.000000</td>\n",
       "      <td>3.000000</td>\n",
       "      <td>9.000000</td>\n",
       "      <td>10.000000</td>\n",
       "      <td>2.000000</td>\n",
       "      <td>2.000000</td>\n",
       "    </tr>\n",
       "    <tr>\n",
       "      <th>max</th>\n",
       "      <td>218270.000000</td>\n",
       "      <td>764.000000</td>\n",
       "      <td>2019.000000</td>\n",
       "      <td>50.000000</td>\n",
       "      <td>11299.000000</td>\n",
       "      <td>60120.000000</td>\n",
       "      <td>60120.000000</td>\n",
       "      <td>60120.000000</td>\n",
       "      <td>120.000000</td>\n",
       "      <td>64926.000000</td>\n",
       "      <td>10.000000</td>\n",
       "      <td>8.464010</td>\n",
       "      <td>90720.000000</td>\n",
       "      <td>1763.000000</td>\n",
       "      <td>1740.000000</td>\n",
       "      <td>8394.000000</td>\n",
       "      <td>13492.000000</td>\n",
       "      <td>6366.000000</td>\n",
       "      <td>5.000000</td>\n",
       "    </tr>\n",
       "  </tbody>\n",
       "</table>\n",
       "</div>"
      ],
      "text/plain": [
       "                  id       n_names  yearpublished    minplayers    maxplayers  \\\n",
       "count   72180.000000  72180.000000   72180.000000  72180.000000  72180.000000   \n",
       "mean    86667.107828      1.529371    1824.841147      2.004253      5.848698   \n",
       "std     68146.635229      4.621345     566.218378      0.860355     59.314011   \n",
       "min         1.000000      1.000000   -3500.000000      0.000000      0.000000   \n",
       "25%     24134.750000      1.000000    1987.000000      2.000000      2.000000   \n",
       "50%     67290.500000      1.000000    2005.000000      2.000000      4.000000   \n",
       "75%    150703.250000      1.000000    2012.000000      2.000000      6.000000   \n",
       "max    218270.000000    764.000000    2019.000000     50.000000  11299.000000   \n",
       "\n",
       "        playingtime   minplaytime   maxplaytime        minage   users_rated  \\\n",
       "count  72180.000000  72180.000000  72180.000000  72180.000000  72180.000000   \n",
       "mean      57.924079     51.577515     57.121239      7.383416    141.052909   \n",
       "std      366.763899    352.961738    366.794762      5.015978   1113.145838   \n",
       "min        0.000000      0.000000      0.000000      0.000000      0.000000   \n",
       "25%       10.000000     10.000000     10.000000      3.000000      0.000000   \n",
       "50%       30.000000     30.000000     30.000000      8.000000      3.000000   \n",
       "75%       60.000000     60.000000     60.000000     12.000000     21.000000   \n",
       "max    60120.000000  60120.000000  60120.000000    120.000000  64926.000000   \n",
       "\n",
       "       average_rating  bayes_average_rating  total_owners  total_traders  \\\n",
       "count    72180.000000          72180.000000  72180.000000   72180.000000   \n",
       "mean         4.429646              1.246493    263.196426       8.785425   \n",
       "std          2.880982              2.380059   1560.568889      38.733187   \n",
       "min          0.000000              0.000000      0.000000       0.000000   \n",
       "25%          0.000000              0.000000      2.000000       0.000000   \n",
       "50%          5.500000              0.000000      9.000000       0.000000   \n",
       "75%          6.735702              0.000000     70.000000       3.000000   \n",
       "max         10.000000              8.464010  90720.000000    1763.000000   \n",
       "\n",
       "       total_wanters  total_wishers  total_comments  total_weights  \\\n",
       "count   72180.000000   72180.000000    72180.000000   72180.000000   \n",
       "mean       10.903893      39.004807       41.416223      12.210779   \n",
       "std        53.608424     235.104995      254.530998      95.353399   \n",
       "min         0.000000       0.000000        0.000000       0.000000   \n",
       "25%         0.000000       0.000000        0.000000       0.000000   \n",
       "50%         0.000000       1.000000        2.000000       0.000000   \n",
       "75%         3.000000       9.000000       10.000000       2.000000   \n",
       "max      1740.000000    8394.000000    13492.000000    6366.000000   \n",
       "\n",
       "       average_weight  \n",
       "count    72180.000000  \n",
       "mean         0.946668  \n",
       "std          1.193385  \n",
       "min          0.000000  \n",
       "25%          0.000000  \n",
       "50%          0.000000  \n",
       "75%          2.000000  \n",
       "max          5.000000  "
      ]
     },
     "execution_count": 12,
     "metadata": {},
     "output_type": "execute_result"
    }
   ],
   "source": [
    "games_cleaned.describe()"
   ]
  },
  {
   "cell_type": "markdown",
   "metadata": {},
   "source": [
    "### Publish year"
   ]
  },
  {
   "cell_type": "code",
   "execution_count": 13,
   "metadata": {
    "collapsed": false
   },
   "outputs": [
    {
     "data": {
      "text/plain": [
       "(65233, 24)"
      ]
     },
     "execution_count": 13,
     "metadata": {},
     "output_type": "execute_result"
    }
   ],
   "source": [
    "cond_1 = games_cleaned['yearpublished'] > 1900\n",
    "cond_2 = games_cleaned['yearpublished'] <= 2017\n",
    "games_cleaned[cond_1 & cond_2].shape"
   ]
  },
  {
   "cell_type": "code",
   "execution_count": 14,
   "metadata": {
    "collapsed": true
   },
   "outputs": [],
   "source": [
    "games_cleaned = games_cleaned[cond_1 & cond_2]"
   ]
  },
  {
   "cell_type": "markdown",
   "metadata": {},
   "source": [
    "### Number of players"
   ]
  },
  {
   "cell_type": "code",
   "execution_count": 15,
   "metadata": {
    "collapsed": false
   },
   "outputs": [
    {
     "data": {
      "text/plain": [
       "<matplotlib.axes._subplots.AxesSubplot at 0x1f1fc720c88>"
      ]
     },
     "execution_count": 15,
     "metadata": {},
     "output_type": "execute_result"
    },
    {
     "data": {
      "image/png": "[encoded data removed]",
      "text/plain": [
       "<matplotlib.figure.Figure at 0x1f1f24fa198>"
      ]
     },
     "metadata": {},
     "output_type": "display_data"
    }
   ],
   "source": [
    "games_cleaned['minplayers'].hist(bins=50)"
   ]
  },
  {
   "cell_type": "code",
   "execution_count": 16,
   "metadata": {
    "collapsed": false,
    "scrolled": false
   },
   "outputs": [],
   "source": [
    "games_cleaned = games_cleaned[games_cleaned['minplayers'] <= 10]"
   ]
  },
  {
   "cell_type": "code",
   "execution_count": 17,
   "metadata": {
    "collapsed": false
   },
   "outputs": [
    {
     "data": {
      "text/plain": [
       "65198"
      ]
     },
     "execution_count": 17,
     "metadata": {},
     "output_type": "execute_result"
    }
   ],
   "source": [
    "games_cleaned.shape[0]"
   ]
  },
  {
   "cell_type": "code",
   "execution_count": 18,
   "metadata": {
    "collapsed": false
   },
   "outputs": [
    {
     "name": "stdout",
     "output_type": "stream",
     "text": [
      "3287\n"
     ]
    },
    {
     "data": {
      "text/html": [
       "<div>\n",
       "<table border=\"1\" class=\"dataframe\">\n",
       "  <thead>\n",
       "    <tr style=\"text-align: right;\">\n",
       "      <th></th>\n",
       "      <th>name</th>\n",
       "      <th>type</th>\n",
       "      <th>minplayers</th>\n",
       "      <th>maxplayers</th>\n",
       "    </tr>\n",
       "  </thead>\n",
       "  <tbody>\n",
       "    <tr>\n",
       "      <th>50</th>\n",
       "      <td>Whirred PLAY</td>\n",
       "      <td>boardgame</td>\n",
       "      <td>4.0</td>\n",
       "      <td>0.0</td>\n",
       "    </tr>\n",
       "    <tr>\n",
       "      <th>76</th>\n",
       "      <td>Dark Gothic: Curse of the Werewolf Game Supple...</td>\n",
       "      <td>expansion</td>\n",
       "      <td>0.0</td>\n",
       "      <td>0.0</td>\n",
       "    </tr>\n",
       "    <tr>\n",
       "      <th>108</th>\n",
       "      <td>Collector's Edition Girls' Night StoryClub</td>\n",
       "      <td>boardgame</td>\n",
       "      <td>2.0</td>\n",
       "      <td>0.0</td>\n",
       "    </tr>\n",
       "    <tr>\n",
       "      <th>120</th>\n",
       "      <td>Hit List</td>\n",
       "      <td>boardgame</td>\n",
       "      <td>2.0</td>\n",
       "      <td>0.0</td>\n",
       "    </tr>\n",
       "    <tr>\n",
       "      <th>124</th>\n",
       "      <td>The Rough Riders: A Volley, Bayonet, &amp; Glory S...</td>\n",
       "      <td>expansion</td>\n",
       "      <td>2.0</td>\n",
       "      <td>0.0</td>\n",
       "    </tr>\n",
       "    <tr>\n",
       "      <th>149</th>\n",
       "      <td>The Great Dreidel Race!</td>\n",
       "      <td>boardgame</td>\n",
       "      <td>2.0</td>\n",
       "      <td>0.0</td>\n",
       "    </tr>\n",
       "    <tr>\n",
       "      <th>173</th>\n",
       "      <td>Iskelmäkaraoke</td>\n",
       "      <td>boardgame</td>\n",
       "      <td>3.0</td>\n",
       "      <td>0.0</td>\n",
       "    </tr>\n",
       "    <tr>\n",
       "      <th>185</th>\n",
       "      <td>Robotech RPG Tactics</td>\n",
       "      <td>boardgame</td>\n",
       "      <td>2.0</td>\n",
       "      <td>0.0</td>\n",
       "    </tr>\n",
       "    <tr>\n",
       "      <th>187</th>\n",
       "      <td>Swipe Out!</td>\n",
       "      <td>boardgame</td>\n",
       "      <td>0.0</td>\n",
       "      <td>0.0</td>\n",
       "    </tr>\n",
       "    <tr>\n",
       "      <th>277</th>\n",
       "      <td>Dust Tactics: Allies P-48 Pelican – \"Bellowing...</td>\n",
       "      <td>expansion</td>\n",
       "      <td>0.0</td>\n",
       "      <td>0.0</td>\n",
       "    </tr>\n",
       "  </tbody>\n",
       "</table>\n",
       "</div>"
      ],
      "text/plain": [
       "                                                  name       type  minplayers  \\\n",
       "50                                        Whirred PLAY  boardgame         4.0   \n",
       "76   Dark Gothic: Curse of the Werewolf Game Supple...  expansion         0.0   \n",
       "108         Collector's Edition Girls' Night StoryClub  boardgame         2.0   \n",
       "120                                           Hit List  boardgame         2.0   \n",
       "124  The Rough Riders: A Volley, Bayonet, & Glory S...  expansion         2.0   \n",
       "149                            The Great Dreidel Race!  boardgame         2.0   \n",
       "173                                     Iskelmäkaraoke  boardgame         3.0   \n",
       "185                               Robotech RPG Tactics  boardgame         2.0   \n",
       "187                                         Swipe Out!  boardgame         0.0   \n",
       "277  Dust Tactics: Allies P-48 Pelican – \"Bellowing...  expansion         0.0   \n",
       "\n",
       "     maxplayers  \n",
       "50          0.0  \n",
       "76          0.0  \n",
       "108         0.0  \n",
       "120         0.0  \n",
       "124         0.0  \n",
       "149         0.0  \n",
       "173         0.0  \n",
       "185         0.0  \n",
       "187         0.0  \n",
       "277         0.0  "
      ]
     },
     "execution_count": 18,
     "metadata": {},
     "output_type": "execute_result"
    }
   ],
   "source": [
    "cond = games_cleaned['maxplayers'] == 0 \n",
    "print(games_cleaned[cond].shape[0])\n",
    "games_cleaned[cond][['name', 'type', 'minplayers', 'maxplayers']].head(10)"
   ]
  },
  {
   "cell_type": "code",
   "execution_count": 19,
   "metadata": {
    "collapsed": false
   },
   "outputs": [
    {
     "data": {
      "text/plain": [
       "11178"
      ]
     },
     "execution_count": 19,
     "metadata": {},
     "output_type": "execute_result"
    }
   ],
   "source": [
    "(games_cleaned['type'] == 'expansion').sum()"
   ]
  },
  {
   "cell_type": "code",
   "execution_count": 20,
   "metadata": {
    "collapsed": true
   },
   "outputs": [],
   "source": [
    "games_cleaned = games_cleaned[games_cleaned['type'] != 'expansion']"
   ]
  },
  {
   "cell_type": "code",
   "execution_count": 21,
   "metadata": {
    "collapsed": false
   },
   "outputs": [
    {
     "data": {
      "text/plain": [
       "{'boardgame'}"
      ]
     },
     "execution_count": 21,
     "metadata": {},
     "output_type": "execute_result"
    }
   ],
   "source": [
    "set(games_cleaned['type'])"
   ]
  },
  {
   "cell_type": "code",
   "execution_count": 22,
   "metadata": {
    "collapsed": false
   },
   "outputs": [],
   "source": [
    "games_cleaned.drop('type', axis=1, inplace=True)"
   ]
  },
  {
   "cell_type": "code",
   "execution_count": 23,
   "metadata": {
    "collapsed": false
   },
   "outputs": [
    {
     "name": "stdout",
     "output_type": "stream",
     "text": [
      "1756\n"
     ]
    }
   ],
   "source": [
    "cond = games_cleaned['minplayers'] > games_cleaned['maxplayers']\n",
    "print(cond.sum())"
   ]
  },
  {
   "cell_type": "code",
   "execution_count": 24,
   "metadata": {
    "collapsed": false
   },
   "outputs": [],
   "source": [
    "cond = games_cleaned['minplayers'] > games_cleaned['maxplayers']\n",
    "games_cleaned.loc[cond, 'maxplayers'] = games_cleaned[cond]['minplayers']"
   ]
  },
  {
   "cell_type": "code",
   "execution_count": 25,
   "metadata": {
    "collapsed": false
   },
   "outputs": [
    {
     "data": {
      "text/plain": [
       "minplayers    4\n",
       "maxplayers    4\n",
       "Name: 50, dtype: object"
      ]
     },
     "execution_count": 25,
     "metadata": {},
     "output_type": "execute_result"
    }
   ],
   "source": [
    "games_cleaned.loc[50, ['minplayers', 'maxplayers']]"
   ]
  },
  {
   "cell_type": "code",
   "execution_count": 26,
   "metadata": {
    "collapsed": false
   },
   "outputs": [
    {
     "data": {
      "text/plain": [
       "54020"
      ]
     },
     "execution_count": 26,
     "metadata": {},
     "output_type": "execute_result"
    }
   ],
   "source": [
    "games_cleaned.shape[0]"
   ]
  },
  {
   "cell_type": "code",
   "execution_count": 27,
   "metadata": {
    "collapsed": false
   },
   "outputs": [
    {
     "name": "stdout",
     "output_type": "stream",
     "text": [
      "661\n"
     ]
    }
   ],
   "source": [
    "cond = (games_cleaned['minplayers'] == 0) | (games_cleaned['maxplayers'] == 0)\n",
    "print(cond.sum())"
   ]
  },
  {
   "cell_type": "code",
   "execution_count": 28,
   "metadata": {
    "collapsed": true
   },
   "outputs": [],
   "source": [
    "cond = (games_cleaned['minplayers'] != 0) & (games_cleaned['maxplayers'] != 0)\n",
    "games_cleaned = games_cleaned[cond]"
   ]
  },
  {
   "cell_type": "code",
   "execution_count": 29,
   "metadata": {
    "collapsed": false
   },
   "outputs": [
    {
     "data": {
      "text/plain": [
       "53359"
      ]
     },
     "execution_count": 29,
     "metadata": {},
     "output_type": "execute_result"
    }
   ],
   "source": [
    "games_cleaned.shape[0]"
   ]
  },
  {
   "cell_type": "code",
   "execution_count": 30,
   "metadata": {
    "collapsed": false
   },
   "outputs": [
    {
     "data": {
      "text/html": [
       "<div>\n",
       "<table border=\"1\" class=\"dataframe\">\n",
       "  <thead>\n",
       "    <tr style=\"text-align: right;\">\n",
       "      <th></th>\n",
       "      <th>id</th>\n",
       "      <th>n_names</th>\n",
       "      <th>yearpublished</th>\n",
       "      <th>minplayers</th>\n",
       "      <th>maxplayers</th>\n",
       "      <th>playingtime</th>\n",
       "      <th>minplaytime</th>\n",
       "      <th>maxplaytime</th>\n",
       "      <th>minage</th>\n",
       "      <th>users_rated</th>\n",
       "      <th>average_rating</th>\n",
       "      <th>bayes_average_rating</th>\n",
       "      <th>total_owners</th>\n",
       "      <th>total_traders</th>\n",
       "      <th>total_wanters</th>\n",
       "      <th>total_wishers</th>\n",
       "      <th>total_comments</th>\n",
       "      <th>total_weights</th>\n",
       "      <th>average_weight</th>\n",
       "    </tr>\n",
       "  </thead>\n",
       "  <tbody>\n",
       "    <tr>\n",
       "      <th>count</th>\n",
       "      <td>53359.000000</td>\n",
       "      <td>53359.000000</td>\n",
       "      <td>53359.000000</td>\n",
       "      <td>53359.000000</td>\n",
       "      <td>53359.000000</td>\n",
       "      <td>53359.000000</td>\n",
       "      <td>53359.000000</td>\n",
       "      <td>53359.000000</td>\n",
       "      <td>53359.000000</td>\n",
       "      <td>53359.000000</td>\n",
       "      <td>53359.000000</td>\n",
       "      <td>53359.000000</td>\n",
       "      <td>53359.000000</td>\n",
       "      <td>53359.000000</td>\n",
       "      <td>53359.000000</td>\n",
       "      <td>53359.000000</td>\n",
       "      <td>53359.000000</td>\n",
       "      <td>53359.000000</td>\n",
       "      <td>53359.000000</td>\n",
       "    </tr>\n",
       "    <tr>\n",
       "      <th>mean</th>\n",
       "      <td>78396.048014</td>\n",
       "      <td>1.490658</td>\n",
       "      <td>1999.359021</td>\n",
       "      <td>2.046478</td>\n",
       "      <td>5.859049</td>\n",
       "      <td>57.163702</td>\n",
       "      <td>50.944508</td>\n",
       "      <td>56.690868</td>\n",
       "      <td>7.299443</td>\n",
       "      <td>164.886242</td>\n",
       "      <td>4.313405</td>\n",
       "      <td>1.264469</td>\n",
       "      <td>261.354373</td>\n",
       "      <td>9.849304</td>\n",
       "      <td>11.241046</td>\n",
       "      <td>43.483855</td>\n",
       "      <td>48.173185</td>\n",
       "      <td>14.686932</td>\n",
       "      <td>0.937618</td>\n",
       "    </tr>\n",
       "    <tr>\n",
       "      <th>std</th>\n",
       "      <td>67020.690498</td>\n",
       "      <td>4.069358</td>\n",
       "      <td>17.621473</td>\n",
       "      <td>0.710910</td>\n",
       "      <td>68.166030</td>\n",
       "      <td>409.003166</td>\n",
       "      <td>393.189008</td>\n",
       "      <td>409.024174</td>\n",
       "      <td>4.826266</td>\n",
       "      <td>1265.791327</td>\n",
       "      <td>2.777323</td>\n",
       "      <td>2.388365</td>\n",
       "      <td>1703.448951</td>\n",
       "      <td>43.658734</td>\n",
       "      <td>60.209537</td>\n",
       "      <td>268.152589</td>\n",
       "      <td>287.819735</td>\n",
       "      <td>108.849032</td>\n",
       "      <td>1.138848</td>\n",
       "    </tr>\n",
       "    <tr>\n",
       "      <th>min</th>\n",
       "      <td>1.000000</td>\n",
       "      <td>1.000000</td>\n",
       "      <td>1901.000000</td>\n",
       "      <td>1.000000</td>\n",
       "      <td>1.000000</td>\n",
       "      <td>0.000000</td>\n",
       "      <td>0.000000</td>\n",
       "      <td>0.000000</td>\n",
       "      <td>0.000000</td>\n",
       "      <td>0.000000</td>\n",
       "      <td>0.000000</td>\n",
       "      <td>0.000000</td>\n",
       "      <td>0.000000</td>\n",
       "      <td>0.000000</td>\n",
       "      <td>0.000000</td>\n",
       "      <td>0.000000</td>\n",
       "      <td>0.000000</td>\n",
       "      <td>0.000000</td>\n",
       "      <td>0.000000</td>\n",
       "    </tr>\n",
       "    <tr>\n",
       "      <th>25%</th>\n",
       "      <td>20030.000000</td>\n",
       "      <td>1.000000</td>\n",
       "      <td>1991.000000</td>\n",
       "      <td>2.000000</td>\n",
       "      <td>2.000000</td>\n",
       "      <td>15.000000</td>\n",
       "      <td>10.000000</td>\n",
       "      <td>15.000000</td>\n",
       "      <td>4.000000</td>\n",
       "      <td>0.000000</td>\n",
       "      <td>0.000000</td>\n",
       "      <td>0.000000</td>\n",
       "      <td>2.000000</td>\n",
       "      <td>0.000000</td>\n",
       "      <td>0.000000</td>\n",
       "      <td>0.000000</td>\n",
       "      <td>0.000000</td>\n",
       "      <td>0.000000</td>\n",
       "      <td>0.000000</td>\n",
       "    </tr>\n",
       "    <tr>\n",
       "      <th>50%</th>\n",
       "      <td>43375.000000</td>\n",
       "      <td>1.000000</td>\n",
       "      <td>2005.000000</td>\n",
       "      <td>2.000000</td>\n",
       "      <td>4.000000</td>\n",
       "      <td>30.000000</td>\n",
       "      <td>30.000000</td>\n",
       "      <td>30.000000</td>\n",
       "      <td>8.000000</td>\n",
       "      <td>3.000000</td>\n",
       "      <td>5.363330</td>\n",
       "      <td>0.000000</td>\n",
       "      <td>8.000000</td>\n",
       "      <td>0.000000</td>\n",
       "      <td>0.000000</td>\n",
       "      <td>1.000000</td>\n",
       "      <td>2.000000</td>\n",
       "      <td>0.000000</td>\n",
       "      <td>0.000000</td>\n",
       "    </tr>\n",
       "    <tr>\n",
       "      <th>75%</th>\n",
       "      <td>140623.000000</td>\n",
       "      <td>1.000000</td>\n",
       "      <td>2012.000000</td>\n",
       "      <td>2.000000</td>\n",
       "      <td>6.000000</td>\n",
       "      <td>60.000000</td>\n",
       "      <td>60.000000</td>\n",
       "      <td>60.000000</td>\n",
       "      <td>12.000000</td>\n",
       "      <td>21.500000</td>\n",
       "      <td>6.474120</td>\n",
       "      <td>0.000000</td>\n",
       "      <td>56.000000</td>\n",
       "      <td>3.000000</td>\n",
       "      <td>2.000000</td>\n",
       "      <td>7.000000</td>\n",
       "      <td>11.000000</td>\n",
       "      <td>3.000000</td>\n",
       "      <td>1.942600</td>\n",
       "    </tr>\n",
       "    <tr>\n",
       "      <th>max</th>\n",
       "      <td>218270.000000</td>\n",
       "      <td>764.000000</td>\n",
       "      <td>2017.000000</td>\n",
       "      <td>10.000000</td>\n",
       "      <td>11299.000000</td>\n",
       "      <td>60120.000000</td>\n",
       "      <td>60120.000000</td>\n",
       "      <td>60120.000000</td>\n",
       "      <td>99.000000</td>\n",
       "      <td>64926.000000</td>\n",
       "      <td>10.000000</td>\n",
       "      <td>8.464010</td>\n",
       "      <td>90720.000000</td>\n",
       "      <td>1763.000000</td>\n",
       "      <td>1740.000000</td>\n",
       "      <td>8394.000000</td>\n",
       "      <td>13492.000000</td>\n",
       "      <td>6366.000000</td>\n",
       "      <td>5.000000</td>\n",
       "    </tr>\n",
       "  </tbody>\n",
       "</table>\n",
       "</div>"
      ],
      "text/plain": [
       "                  id       n_names  yearpublished    minplayers    maxplayers  \\\n",
       "count   53359.000000  53359.000000   53359.000000  53359.000000  53359.000000   \n",
       "mean    78396.048014      1.490658    1999.359021      2.046478      5.859049   \n",
       "std     67020.690498      4.069358      17.621473      0.710910     68.166030   \n",
       "min         1.000000      1.000000    1901.000000      1.000000      1.000000   \n",
       "25%     20030.000000      1.000000    1991.000000      2.000000      2.000000   \n",
       "50%     43375.000000      1.000000    2005.000000      2.000000      4.000000   \n",
       "75%    140623.000000      1.000000    2012.000000      2.000000      6.000000   \n",
       "max    218270.000000    764.000000    2017.000000     10.000000  11299.000000   \n",
       "\n",
       "        playingtime   minplaytime   maxplaytime        minage   users_rated  \\\n",
       "count  53359.000000  53359.000000  53359.000000  53359.000000  53359.000000   \n",
       "mean      57.163702     50.944508     56.690868      7.299443    164.886242   \n",
       "std      409.003166    393.189008    409.024174      4.826266   1265.791327   \n",
       "min        0.000000      0.000000      0.000000      0.000000      0.000000   \n",
       "25%       15.000000     10.000000     15.000000      4.000000      0.000000   \n",
       "50%       30.000000     30.000000     30.000000      8.000000      3.000000   \n",
       "75%       60.000000     60.000000     60.000000     12.000000     21.500000   \n",
       "max    60120.000000  60120.000000  60120.000000     99.000000  64926.000000   \n",
       "\n",
       "       average_rating  bayes_average_rating  total_owners  total_traders  \\\n",
       "count    53359.000000          53359.000000  53359.000000   53359.000000   \n",
       "mean         4.313405              1.264469    261.354373       9.849304   \n",
       "std          2.777323              2.388365   1703.448951      43.658734   \n",
       "min          0.000000              0.000000      0.000000       0.000000   \n",
       "25%          0.000000              0.000000      2.000000       0.000000   \n",
       "50%          5.363330              0.000000      8.000000       0.000000   \n",
       "75%          6.474120              0.000000     56.000000       3.000000   \n",
       "max         10.000000              8.464010  90720.000000    1763.000000   \n",
       "\n",
       "       total_wanters  total_wishers  total_comments  total_weights  \\\n",
       "count   53359.000000   53359.000000    53359.000000   53359.000000   \n",
       "mean       11.241046      43.483855       48.173185      14.686932   \n",
       "std        60.209537     268.152589      287.819735     108.849032   \n",
       "min         0.000000       0.000000        0.000000       0.000000   \n",
       "25%         0.000000       0.000000        0.000000       0.000000   \n",
       "50%         0.000000       1.000000        2.000000       0.000000   \n",
       "75%         2.000000       7.000000       11.000000       3.000000   \n",
       "max      1740.000000    8394.000000    13492.000000    6366.000000   \n",
       "\n",
       "       average_weight  \n",
       "count    53359.000000  \n",
       "mean         0.937618  \n",
       "std          1.138848  \n",
       "min          0.000000  \n",
       "25%          0.000000  \n",
       "50%          0.000000  \n",
       "75%          1.942600  \n",
       "max          5.000000  "
      ]
     },
     "execution_count": 30,
     "metadata": {},
     "output_type": "execute_result"
    }
   ],
   "source": [
    "games_cleaned.describe()"
   ]
  },
  {
   "cell_type": "markdown",
   "metadata": {},
   "source": [
    "### Playing time"
   ]
  },
  {
   "cell_type": "code",
   "execution_count": 31,
   "metadata": {
    "collapsed": false
   },
   "outputs": [
    {
     "name": "stdout",
     "output_type": "stream",
     "text": [
      "719\n"
     ]
    },
    {
     "data": {
      "text/html": [
       "<div>\n",
       "<table border=\"1\" class=\"dataframe\">\n",
       "  <thead>\n",
       "    <tr style=\"text-align: right;\">\n",
       "      <th></th>\n",
       "      <th>id</th>\n",
       "      <th>name</th>\n",
       "      <th>minplaytime</th>\n",
       "      <th>maxplaytime</th>\n",
       "    </tr>\n",
       "  </thead>\n",
       "  <tbody>\n",
       "    <tr>\n",
       "      <th>108</th>\n",
       "      <td>176683</td>\n",
       "      <td>Collector's Edition Girls' Night StoryClub</td>\n",
       "      <td>30.0</td>\n",
       "      <td>0.0</td>\n",
       "    </tr>\n",
       "    <tr>\n",
       "      <th>216</th>\n",
       "      <td>179596</td>\n",
       "      <td>3 and C</td>\n",
       "      <td>2.0</td>\n",
       "      <td>0.0</td>\n",
       "    </tr>\n",
       "    <tr>\n",
       "      <th>670</th>\n",
       "      <td>187714</td>\n",
       "      <td>Exultate Deo -The Fluffy Rite-</td>\n",
       "      <td>30.0</td>\n",
       "      <td>0.0</td>\n",
       "    </tr>\n",
       "    <tr>\n",
       "      <th>673</th>\n",
       "      <td>187711</td>\n",
       "      <td>Kaiten: Die Sushi-Bar</td>\n",
       "      <td>60.0</td>\n",
       "      <td>0.0</td>\n",
       "    </tr>\n",
       "    <tr>\n",
       "      <th>688</th>\n",
       "      <td>192923</td>\n",
       "      <td>Barn Raiser</td>\n",
       "      <td>20.0</td>\n",
       "      <td>0.0</td>\n",
       "    </tr>\n",
       "    <tr>\n",
       "      <th>954</th>\n",
       "      <td>177146</td>\n",
       "      <td>Climb ON!</td>\n",
       "      <td>60.0</td>\n",
       "      <td>0.0</td>\n",
       "    </tr>\n",
       "    <tr>\n",
       "      <th>985</th>\n",
       "      <td>193647</td>\n",
       "      <td>Blitzkrieg V3</td>\n",
       "      <td>30.0</td>\n",
       "      <td>8.0</td>\n",
       "    </tr>\n",
       "    <tr>\n",
       "      <th>1069</th>\n",
       "      <td>213884</td>\n",
       "      <td>Starcall</td>\n",
       "      <td>30.0</td>\n",
       "      <td>0.0</td>\n",
       "    </tr>\n",
       "    <tr>\n",
       "      <th>1070</th>\n",
       "      <td>213885</td>\n",
       "      <td>Heartbreak EP</td>\n",
       "      <td>30.0</td>\n",
       "      <td>0.0</td>\n",
       "    </tr>\n",
       "    <tr>\n",
       "      <th>1112</th>\n",
       "      <td>176545</td>\n",
       "      <td>Moriyamics</td>\n",
       "      <td>10.0</td>\n",
       "      <td>0.0</td>\n",
       "    </tr>\n",
       "  </tbody>\n",
       "</table>\n",
       "</div>"
      ],
      "text/plain": [
       "          id                                        name  minplaytime  \\\n",
       "108   176683  Collector's Edition Girls' Night StoryClub         30.0   \n",
       "216   179596                                     3 and C          2.0   \n",
       "670   187714              Exultate Deo -The Fluffy Rite-         30.0   \n",
       "673   187711                       Kaiten: Die Sushi-Bar         60.0   \n",
       "688   192923                                 Barn Raiser         20.0   \n",
       "954   177146                                   Climb ON!         60.0   \n",
       "985   193647                               Blitzkrieg V3         30.0   \n",
       "1069  213884                                    Starcall         30.0   \n",
       "1070  213885                               Heartbreak EP         30.0   \n",
       "1112  176545                                  Moriyamics         10.0   \n",
       "\n",
       "      maxplaytime  \n",
       "108           0.0  \n",
       "216           0.0  \n",
       "670           0.0  \n",
       "673           0.0  \n",
       "688           0.0  \n",
       "954           0.0  \n",
       "985           8.0  \n",
       "1069          0.0  \n",
       "1070          0.0  \n",
       "1112          0.0  "
      ]
     },
     "execution_count": 31,
     "metadata": {},
     "output_type": "execute_result"
    }
   ],
   "source": [
    "cond = games_cleaned['maxplaytime'] < games_cleaned['minplaytime']\n",
    "print(cond.sum())\n",
    "games_cleaned[cond][['id', 'name', 'minplaytime', 'maxplaytime']].head(10)"
   ]
  },
  {
   "cell_type": "code",
   "execution_count": 32,
   "metadata": {
    "collapsed": true
   },
   "outputs": [],
   "source": [
    "games_cleaned.loc[cond, 'maxplaytime'] = games_cleaned[cond]['minplaytime']"
   ]
  },
  {
   "cell_type": "code",
   "execution_count": 33,
   "metadata": {
    "collapsed": false
   },
   "outputs": [
    {
     "name": "stdout",
     "output_type": "stream",
     "text": [
      "8795\n"
     ]
    }
   ],
   "source": [
    "cond = (games_cleaned['maxplaytime'] == 0) | (games_cleaned['minplaytime'] == 0)\n",
    "print(cond.sum())"
   ]
  },
  {
   "cell_type": "code",
   "execution_count": 34,
   "metadata": {
    "collapsed": false
   },
   "outputs": [
    {
     "data": {
      "text/html": [
       "<div>\n",
       "<table border=\"1\" class=\"dataframe\">\n",
       "  <thead>\n",
       "    <tr style=\"text-align: right;\">\n",
       "      <th></th>\n",
       "      <th>name</th>\n",
       "      <th>minplaytime</th>\n",
       "      <th>maxplaytime</th>\n",
       "    </tr>\n",
       "  </thead>\n",
       "  <tbody>\n",
       "    <tr>\n",
       "      <th>16</th>\n",
       "      <td>Brawl Inn</td>\n",
       "      <td>0.0</td>\n",
       "      <td>0.0</td>\n",
       "    </tr>\n",
       "    <tr>\n",
       "      <th>23</th>\n",
       "      <td>Wicce Hearts</td>\n",
       "      <td>0.0</td>\n",
       "      <td>0.0</td>\n",
       "    </tr>\n",
       "    <tr>\n",
       "      <th>67</th>\n",
       "      <td>Espresso Dice</td>\n",
       "      <td>0.0</td>\n",
       "      <td>0.0</td>\n",
       "    </tr>\n",
       "    <tr>\n",
       "      <th>69</th>\n",
       "      <td>Grand Prix</td>\n",
       "      <td>0.0</td>\n",
       "      <td>0.0</td>\n",
       "    </tr>\n",
       "    <tr>\n",
       "      <th>73</th>\n",
       "      <td>Wheelspin No 1 World Formula Grand Prix</td>\n",
       "      <td>0.0</td>\n",
       "      <td>0.0</td>\n",
       "    </tr>\n",
       "    <tr>\n",
       "      <th>75</th>\n",
       "      <td>Grand Prix Championship</td>\n",
       "      <td>0.0</td>\n",
       "      <td>0.0</td>\n",
       "    </tr>\n",
       "    <tr>\n",
       "      <th>81</th>\n",
       "      <td>Totalisator Greyhound Racing Game</td>\n",
       "      <td>0.0</td>\n",
       "      <td>0.0</td>\n",
       "    </tr>\n",
       "    <tr>\n",
       "      <th>119</th>\n",
       "      <td>House Rules for Napoleonic Wargaming</td>\n",
       "      <td>0.0</td>\n",
       "      <td>0.0</td>\n",
       "    </tr>\n",
       "    <tr>\n",
       "      <th>120</th>\n",
       "      <td>Hit List</td>\n",
       "      <td>0.0</td>\n",
       "      <td>0.0</td>\n",
       "    </tr>\n",
       "    <tr>\n",
       "      <th>129</th>\n",
       "      <td>The Brownie Game</td>\n",
       "      <td>0.0</td>\n",
       "      <td>0.0</td>\n",
       "    </tr>\n",
       "  </tbody>\n",
       "</table>\n",
       "</div>"
      ],
      "text/plain": [
       "                                        name  minplaytime  maxplaytime\n",
       "16                                 Brawl Inn          0.0          0.0\n",
       "23                              Wicce Hearts          0.0          0.0\n",
       "67                             Espresso Dice          0.0          0.0\n",
       "69                                Grand Prix          0.0          0.0\n",
       "73   Wheelspin No 1 World Formula Grand Prix          0.0          0.0\n",
       "75                   Grand Prix Championship          0.0          0.0\n",
       "81         Totalisator Greyhound Racing Game          0.0          0.0\n",
       "119     House Rules for Napoleonic Wargaming          0.0          0.0\n",
       "120                                 Hit List          0.0          0.0\n",
       "129                         The Brownie Game          0.0          0.0"
      ]
     },
     "execution_count": 34,
     "metadata": {},
     "output_type": "execute_result"
    }
   ],
   "source": [
    "games_cleaned[games_cleaned['maxplaytime'] == 0][['name', 'minplaytime', 'maxplaytime']].head(10)"
   ]
  },
  {
   "cell_type": "code",
   "execution_count": 35,
   "metadata": {
    "collapsed": false
   },
   "outputs": [
    {
     "name": "stdout",
     "output_type": "stream",
     "text": [
      "44564\n"
     ]
    }
   ],
   "source": [
    "cond_1 = games_cleaned['minplaytime'] != 0\n",
    "cond_2 = games_cleaned['maxplaytime'] != 0\n",
    "\n",
    "games_cleaned = games_cleaned[cond_1 & cond_2]\n",
    "print(games_cleaned.shape[0])"
   ]
  },
  {
   "cell_type": "code",
   "execution_count": 36,
   "metadata": {
    "collapsed": false
   },
   "outputs": [
    {
     "name": "stdout",
     "output_type": "stream",
     "text": [
      "0\n"
     ]
    }
   ],
   "source": [
    "cond = games_cleaned['playingtime'] > games_cleaned['maxplaytime']\n",
    "print(cond.sum())"
   ]
  },
  {
   "cell_type": "markdown",
   "metadata": {},
   "source": [
    "### Minimum age"
   ]
  },
  {
   "cell_type": "code",
   "execution_count": 37,
   "metadata": {
    "collapsed": false
   },
   "outputs": [
    {
     "data": {
      "text/plain": [
       "<matplotlib.axes._subplots.AxesSubplot at 0x1f1f27926a0>"
      ]
     },
     "execution_count": 37,
     "metadata": {},
     "output_type": "execute_result"
    },
    {
     "data": {
      "image/png": "[encoded data removed]",
      "text/plain": [
       "<matplotlib.figure.Figure at 0x1f1f27995f8>"
      ]
     },
     "metadata": {},
     "output_type": "display_data"
    }
   ],
   "source": [
    "games_cleaned['minage'].hist(bins=50)"
   ]
  },
  {
   "cell_type": "code",
   "execution_count": 38,
   "metadata": {
    "collapsed": false
   },
   "outputs": [
    {
     "data": {
      "text/plain": [
       "8"
      ]
     },
     "execution_count": 38,
     "metadata": {},
     "output_type": "execute_result"
    }
   ],
   "source": [
    "(games_cleaned['minage'] > 30).sum()"
   ]
  },
  {
   "cell_type": "code",
   "execution_count": 39,
   "metadata": {
    "collapsed": false
   },
   "outputs": [
    {
     "data": {
      "text/html": [
       "<div>\n",
       "<table border=\"1\" class=\"dataframe\">\n",
       "  <thead>\n",
       "    <tr style=\"text-align: right;\">\n",
       "      <th></th>\n",
       "      <th>name</th>\n",
       "      <th>minage</th>\n",
       "      <th>category</th>\n",
       "    </tr>\n",
       "  </thead>\n",
       "  <tbody>\n",
       "    <tr>\n",
       "      <th>11222</th>\n",
       "      <td>South African Railroads</td>\n",
       "      <td>42.0</td>\n",
       "      <td>Economic,Trains,Transportation</td>\n",
       "    </tr>\n",
       "    <tr>\n",
       "      <th>26264</th>\n",
       "      <td>The BGG Admin Game: The Octavian Edition</td>\n",
       "      <td>99.0</td>\n",
       "      <td>Party Game</td>\n",
       "    </tr>\n",
       "    <tr>\n",
       "      <th>27234</th>\n",
       "      <td>Eco Town</td>\n",
       "      <td>36.0</td>\n",
       "      <td>Children's Game,City Building</td>\n",
       "    </tr>\n",
       "    <tr>\n",
       "      <th>47921</th>\n",
       "      <td>La Boîte à énigmes junior</td>\n",
       "      <td>45.0</td>\n",
       "      <td>Card Game,Children's Game,Fantasy,Trivia</td>\n",
       "    </tr>\n",
       "    <tr>\n",
       "      <th>50827</th>\n",
       "      <td>Eight Epics: Hakkenden</td>\n",
       "      <td>38.0</td>\n",
       "      <td>Dice</td>\n",
       "    </tr>\n",
       "    <tr>\n",
       "      <th>55829</th>\n",
       "      <td>HTPsim</td>\n",
       "      <td>90.0</td>\n",
       "      <td>Racing,Sports</td>\n",
       "    </tr>\n",
       "    <tr>\n",
       "      <th>67664</th>\n",
       "      <td>Grand Galop</td>\n",
       "      <td>45.0</td>\n",
       "      <td>Animals,Children's Game,Dice,Movies / TV / Rad...</td>\n",
       "    </tr>\n",
       "    <tr>\n",
       "      <th>68280</th>\n",
       "      <td>The 70's Game</td>\n",
       "      <td>35.0</td>\n",
       "      <td>Trivia</td>\n",
       "    </tr>\n",
       "  </tbody>\n",
       "</table>\n",
       "</div>"
      ],
      "text/plain": [
       "                                           name  minage  \\\n",
       "11222                   South African Railroads    42.0   \n",
       "26264  The BGG Admin Game: The Octavian Edition    99.0   \n",
       "27234                                  Eco Town    36.0   \n",
       "47921                 La Boîte à énigmes junior    45.0   \n",
       "50827                    Eight Epics: Hakkenden    38.0   \n",
       "55829                                    HTPsim    90.0   \n",
       "67664                               Grand Galop    45.0   \n",
       "68280                             The 70's Game    35.0   \n",
       "\n",
       "                                                category  \n",
       "11222                     Economic,Trains,Transportation  \n",
       "26264                                         Party Game  \n",
       "27234                      Children's Game,City Building  \n",
       "47921           Card Game,Children's Game,Fantasy,Trivia  \n",
       "50827                                               Dice  \n",
       "55829                                      Racing,Sports  \n",
       "67664  Animals,Children's Game,Dice,Movies / TV / Rad...  \n",
       "68280                                             Trivia  "
      ]
     },
     "execution_count": 39,
     "metadata": {},
     "output_type": "execute_result"
    }
   ],
   "source": [
    "games_cleaned[games_cleaned['minage'] > 30][['name', 'minage', 'category']]"
   ]
  },
  {
   "cell_type": "markdown",
   "metadata": {},
   "source": [
    "We will clean up minage column after we encode mechanic and category columns."
   ]
  },
  {
   "cell_type": "markdown",
   "metadata": {},
   "source": [
    "# Encode mechanic and category columns"
   ]
  },
  {
   "cell_type": "code",
   "execution_count": 40,
   "metadata": {
    "collapsed": false
   },
   "outputs": [
    {
     "data": {
      "text/plain": [
       "0                                       Hex-and-Counter\n",
       "1                                       Hand Management\n",
       "2            Card Drafting,Roll / Spin and Move,Trading\n",
       "3     Action Point Allowance System,Campaign / Battl...\n",
       "5                                       Hex-and-Counter\n",
       "6                                         Area Movement\n",
       "7                                  Roll / Spin and Move\n",
       "10                                      Hand Management\n",
       "11                                      Hex-and-Counter\n",
       "13                                         Dice Rolling\n",
       "Name: mechanic, dtype: object"
      ]
     },
     "execution_count": 40,
     "metadata": {},
     "output_type": "execute_result"
    }
   ],
   "source": [
    "games_cleaned['mechanic'].head(10)"
   ]
  },
  {
   "cell_type": "code",
   "execution_count": 41,
   "metadata": {
    "collapsed": true
   },
   "outputs": [],
   "source": [
    "def get_cate(cate='mechanic'):\n",
    "    # get mechanics or category lists from BGG website.\n",
    "    if cate == 'mechanic':\n",
    "        url = 'https://boardgamegeek.com/browse/boardgamemechanic'\n",
    "    elif cate == 'category':\n",
    "        url = 'https://boardgamegeek.com/browse/boardgamecategory'\n",
    "    response = requests.get(url)\n",
    "    if response.status_code != 200:\n",
    "        print('fail to access website.')\n",
    "        print('response code: {}'.format(response.status_code))\n",
    "        return None\n",
    "\n",
    "    soup = bs4.BeautifulSoup(response.content, 'lxml')\n",
    "    tables = soup.find_all('table', {'width': '100%', 'class': 'forum_table'})\n",
    "    if len(tables) != 1:\n",
    "        print('Warning: more than one table are found!')\n",
    "        return None\n",
    "\n",
    "    table = tables[0]\n",
    "    cate_links = table.find_all('a')\n",
    "    cate_list = [str(link.string) for link in cate_links]\n",
    "\n",
    "    return cate_list"
   ]
  },
  {
   "cell_type": "code",
   "execution_count": 42,
   "metadata": {
    "collapsed": false
   },
   "outputs": [],
   "source": [
    "mech_list, cate_list = get_cate('mechanic'), get_cate('category')"
   ]
  },
  {
   "cell_type": "code",
   "execution_count": 43,
   "metadata": {
    "collapsed": false
   },
   "outputs": [
    {
     "name": "stdout",
     "output_type": "stream",
     "text": [
      "51\n",
      "['Acting', 'Action / Movement Programming', 'Action Point Allowance System', 'Area Control / Area Influence', 'Area Enclosure', 'Area Movement', 'Area-Impulse', 'Auction/Bidding', 'Betting/Wagering', 'Campaign / Battle Card Driven']\n",
      "\n",
      "\n",
      "84\n",
      "['Abstract Strategy', 'Action / Dexterity', 'Adventure', 'Age of Reason', 'American Civil War', 'American Indian Wars', 'American Revolutionary War', 'American West', 'Ancient', 'Animals']\n"
     ]
    }
   ],
   "source": [
    "print(len(mech_list))\n",
    "print(mech_list[:10])\n",
    "print('\\n')\n",
    "print(len(cate_list))\n",
    "print(cate_list[:10])"
   ]
  },
  {
   "cell_type": "code",
   "execution_count": 44,
   "metadata": {
    "collapsed": true
   },
   "outputs": [],
   "source": [
    "def check_cate(row, cate_list, cate='mechanic'):\n",
    "    # check if every games mechanics and categories are in the lists.\n",
    "    cates = row[cate].split(',')\n",
    "    cate_set = set(cate_list)\n",
    "    return cate_set.issuperset(cates)"
   ]
  },
  {
   "cell_type": "code",
   "execution_count": 45,
   "metadata": {
    "collapsed": false
   },
   "outputs": [
    {
     "data": {
      "text/plain": [
       "0"
      ]
     },
     "execution_count": 45,
     "metadata": {},
     "output_type": "execute_result"
    }
   ],
   "source": [
    "# check if all values are in the set\n",
    "check_results = games_cleaned.apply(lambda row: check_cate(row, mech_list, cate='mechanic'), axis=1)\n",
    "(~check_results).sum()"
   ]
  },
  {
   "cell_type": "code",
   "execution_count": 46,
   "metadata": {
    "collapsed": false
   },
   "outputs": [
    {
     "data": {
      "text/plain": [
       "0"
      ]
     },
     "execution_count": 46,
     "metadata": {},
     "output_type": "execute_result"
    }
   ],
   "source": [
    "# check if all values are in the set\n",
    "check_results = games_cleaned.apply(lambda row: check_cate(row, cate_list, cate='category'), axis=1)\n",
    "(~check_results).sum()"
   ]
  },
  {
   "cell_type": "code",
   "execution_count": 47,
   "metadata": {
    "collapsed": true
   },
   "outputs": [],
   "source": [
    "def encoder(row, cate_list, cate='mechanic'):\n",
    "    # encode each machanic and category as a category variable with value 0 or 1.\n",
    "    encoded_result = dict(zip(cate_list, [0]*len(cate_list)))\n",
    "    cates = row[cate].split(',')\n",
    "    for cate in cates:\n",
    "        encoded_result[cate] = 1\n",
    "    return pd.Series(encoded_result)"
   ]
  },
  {
   "cell_type": "code",
   "execution_count": 48,
   "metadata": {
    "collapsed": false
   },
   "outputs": [],
   "source": [
    "games_cleaned[mech_list] = games_cleaned.apply(lambda row: encoder(row, mech_list, cate='mechanic'), axis=1)"
   ]
  },
  {
   "cell_type": "code",
   "execution_count": 49,
   "metadata": {
    "collapsed": true
   },
   "outputs": [],
   "source": [
    "games_cleaned[cate_list] = games_cleaned.apply(lambda row: encoder(row, cate_list, cate='category'), axis=1)"
   ]
  },
  {
   "cell_type": "code",
   "execution_count": 50,
   "metadata": {
    "collapsed": false
   },
   "outputs": [
    {
     "name": "stdout",
     "output_type": "stream",
     "text": [
      "Hex-and-Counter\n",
      "Hex-and-Counter    1\n",
      "Name: 27511, dtype: object\n"
     ]
    }
   ],
   "source": [
    "ind = np.random.randint(0, games_cleaned.shape[0])\n",
    "sample = games_cleaned.iloc[ind]\n",
    "print(sample['mechanic'])\n",
    "print(sample[mech_list][sample[mech_list] == 1])"
   ]
  },
  {
   "cell_type": "code",
   "execution_count": 51,
   "metadata": {
    "collapsed": false
   },
   "outputs": [
    {
     "name": "stdout",
     "output_type": "stream",
     "text": [
      "Card Game,Political\n",
      "Card Game    1\n",
      "Political    1\n",
      "Name: 34035, dtype: object\n"
     ]
    }
   ],
   "source": [
    "ind = np.random.randint(0, games_cleaned.shape[0])\n",
    "sample = games_cleaned.iloc[ind]\n",
    "print(sample['category'])\n",
    "print(sample[cate_list][sample[cate_list] == 1])"
   ]
  },
  {
   "cell_type": "code",
   "execution_count": 52,
   "metadata": {
    "collapsed": false
   },
   "outputs": [
    {
     "data": {
      "text/plain": [
       "157"
      ]
     },
     "execution_count": 52,
     "metadata": {},
     "output_type": "execute_result"
    }
   ],
   "source": [
    "games_cleaned.shape[1]"
   ]
  },
  {
   "cell_type": "code",
   "execution_count": 53,
   "metadata": {
    "collapsed": false
   },
   "outputs": [
    {
     "data": {
      "text/plain": [
       "158"
      ]
     },
     "execution_count": 53,
     "metadata": {},
     "output_type": "execute_result"
    }
   ],
   "source": [
    "games.shape[1] + len(mech_list) + len(cate_list) - 3 # subtract columns: type, subdomain and lang_dep"
   ]
  },
  {
   "cell_type": "code",
   "execution_count": 54,
   "metadata": {
    "collapsed": false
   },
   "outputs": [
    {
     "data": {
      "text/plain": [
       "['Memory']"
      ]
     },
     "execution_count": 54,
     "metadata": {},
     "output_type": "execute_result"
    }
   ],
   "source": [
    "[col for col in cate_list if col in mech_list]"
   ]
  },
  {
   "cell_type": "code",
   "execution_count": 55,
   "metadata": {
    "collapsed": true
   },
   "outputs": [],
   "source": [
    "def memory_cate_fix(row):\n",
    "    cates_category = row['category'].split(',')\n",
    "    cates_mechanic = row['mechanic'].split(',')\n",
    "    if 'Memory' in cates_category or 'Memory' in cates_mechanic:\n",
    "        memory = {'Memory': 1}\n",
    "    else:\n",
    "        memory = {'Memory': 0}\n",
    "    return pd.Series(memory)"
   ]
  },
  {
   "cell_type": "code",
   "execution_count": 56,
   "metadata": {
    "collapsed": true
   },
   "outputs": [],
   "source": [
    "games_cleaned['Memory'] = games_cleaned.apply(lambda row: memory_cate_fix(row), axis=1)"
   ]
  },
  {
   "cell_type": "code",
   "execution_count": 57,
   "metadata": {
    "collapsed": false
   },
   "outputs": [
    {
     "data": {
      "text/html": [
       "<div>\n",
       "<table border=\"1\" class=\"dataframe\">\n",
       "  <thead>\n",
       "    <tr style=\"text-align: right;\">\n",
       "      <th></th>\n",
       "      <th>mechanic</th>\n",
       "      <th>category</th>\n",
       "    </tr>\n",
       "  </thead>\n",
       "  <tbody>\n",
       "    <tr>\n",
       "      <th>28</th>\n",
       "      <td>Card Drafting,Hand Management,Memory,Set Colle...</td>\n",
       "      <td>Card Game,Children's Game,Educational,Memory,R...</td>\n",
       "    </tr>\n",
       "    <tr>\n",
       "      <th>31</th>\n",
       "      <td>Memory,Set Collection</td>\n",
       "      <td>Card Game,Real-time</td>\n",
       "    </tr>\n",
       "    <tr>\n",
       "      <th>45</th>\n",
       "      <td>Dice Rolling,Memory,Roll / Spin and Move</td>\n",
       "      <td>Card Game,Dice,Memory,Party Game</td>\n",
       "    </tr>\n",
       "    <tr>\n",
       "      <th>109</th>\n",
       "      <td>Roll / Spin and Move,Set Collection</td>\n",
       "      <td>Adventure,Children's Game,Memory,Movies / TV /...</td>\n",
       "    </tr>\n",
       "    <tr>\n",
       "      <th>117</th>\n",
       "      <td>Memory,Roll / Spin and Move</td>\n",
       "      <td>Educational,Memory,Religious</td>\n",
       "    </tr>\n",
       "    <tr>\n",
       "      <th>121</th>\n",
       "      <td>Memory,Roll / Spin and Move,Simulation</td>\n",
       "      <td>American West,Educational,Memory,Religious,Trivia</td>\n",
       "    </tr>\n",
       "    <tr>\n",
       "      <th>125</th>\n",
       "      <td>Action Point Allowance System,Memory</td>\n",
       "      <td>Electronic,Horror,Memory,Racing</td>\n",
       "    </tr>\n",
       "    <tr>\n",
       "      <th>218</th>\n",
       "      <td>Memory,Set Collection</td>\n",
       "      <td>Card Game,Party Game</td>\n",
       "    </tr>\n",
       "    <tr>\n",
       "      <th>251</th>\n",
       "      <td>Memory,Roll / Spin and Move</td>\n",
       "      <td>Memory,Music,Trivia</td>\n",
       "    </tr>\n",
       "    <tr>\n",
       "      <th>257</th>\n",
       "      <td>Betting/Wagering,Memory,Roll / Spin and Move</td>\n",
       "      <td>Memory,Party Game,Real-time</td>\n",
       "    </tr>\n",
       "  </tbody>\n",
       "</table>\n",
       "</div>"
      ],
      "text/plain": [
       "                                              mechanic  \\\n",
       "28   Card Drafting,Hand Management,Memory,Set Colle...   \n",
       "31                               Memory,Set Collection   \n",
       "45            Dice Rolling,Memory,Roll / Spin and Move   \n",
       "109                Roll / Spin and Move,Set Collection   \n",
       "117                        Memory,Roll / Spin and Move   \n",
       "121             Memory,Roll / Spin and Move,Simulation   \n",
       "125               Action Point Allowance System,Memory   \n",
       "218                              Memory,Set Collection   \n",
       "251                        Memory,Roll / Spin and Move   \n",
       "257       Betting/Wagering,Memory,Roll / Spin and Move   \n",
       "\n",
       "                                              category  \n",
       "28   Card Game,Children's Game,Educational,Memory,R...  \n",
       "31                                 Card Game,Real-time  \n",
       "45                    Card Game,Dice,Memory,Party Game  \n",
       "109  Adventure,Children's Game,Memory,Movies / TV /...  \n",
       "117                       Educational,Memory,Religious  \n",
       "121  American West,Educational,Memory,Religious,Trivia  \n",
       "125                    Electronic,Horror,Memory,Racing  \n",
       "218                               Card Game,Party Game  \n",
       "251                                Memory,Music,Trivia  \n",
       "257                        Memory,Party Game,Real-time  "
      ]
     },
     "execution_count": 57,
     "metadata": {},
     "output_type": "execute_result"
    }
   ],
   "source": [
    "games_cleaned[games_cleaned['Memory']==1][['mechanic', 'category']].head(10)"
   ]
  },
  {
   "cell_type": "code",
   "execution_count": 58,
   "metadata": {
    "collapsed": true
   },
   "outputs": [],
   "source": [
    "games_cleaned.drop(['mechanic', 'category'], axis=1, inplace=True)"
   ]
  },
  {
   "cell_type": "markdown",
   "metadata": {},
   "source": [
    "# Minimum age revisit"
   ]
  },
  {
   "cell_type": "code",
   "execution_count": 59,
   "metadata": {
    "collapsed": false
   },
   "outputs": [
    {
     "name": "stdout",
     "output_type": "stream",
     "text": [
      "5\n"
     ]
    },
    {
     "data": {
      "text/html": [
       "<div>\n",
       "<table border=\"1\" class=\"dataframe\">\n",
       "  <thead>\n",
       "    <tr style=\"text-align: right;\">\n",
       "      <th></th>\n",
       "      <th>name</th>\n",
       "      <th>minage</th>\n",
       "    </tr>\n",
       "  </thead>\n",
       "  <tbody>\n",
       "    <tr>\n",
       "      <th>27234</th>\n",
       "      <td>Eco Town</td>\n",
       "      <td>36.0</td>\n",
       "    </tr>\n",
       "    <tr>\n",
       "      <th>47921</th>\n",
       "      <td>La Boîte à énigmes junior</td>\n",
       "      <td>45.0</td>\n",
       "    </tr>\n",
       "    <tr>\n",
       "      <th>67664</th>\n",
       "      <td>Grand Galop</td>\n",
       "      <td>45.0</td>\n",
       "    </tr>\n",
       "    <tr>\n",
       "      <th>75537</th>\n",
       "      <td>Le Cochon Qui Rit Encore Plus</td>\n",
       "      <td>30.0</td>\n",
       "    </tr>\n",
       "    <tr>\n",
       "      <th>76130</th>\n",
       "      <td>Power Rangers Wild Force Circle of Power Game</td>\n",
       "      <td>30.0</td>\n",
       "    </tr>\n",
       "  </tbody>\n",
       "</table>\n",
       "</div>"
      ],
      "text/plain": [
       "                                                name  minage\n",
       "27234                                       Eco Town    36.0\n",
       "47921                      La Boîte à énigmes junior    45.0\n",
       "67664                                    Grand Galop    45.0\n",
       "75537                  Le Cochon Qui Rit Encore Plus    30.0\n",
       "76130  Power Rangers Wild Force Circle of Power Game    30.0"
      ]
     },
     "execution_count": 59,
     "metadata": {},
     "output_type": "execute_result"
    }
   ],
   "source": [
    "cond_1 = games_cleaned['Children\\'s Game'] == 1\n",
    "cond_2 = games_cleaned['minage'] > 18\n",
    "print((cond_1 & cond_2).sum())\n",
    "games_cleaned[cond_1 & cond_2][['name', 'minage']]"
   ]
  },
  {
   "cell_type": "code",
   "execution_count": 60,
   "metadata": {
    "collapsed": true
   },
   "outputs": [],
   "source": [
    "mean_age_children = games_cleaned.loc[cond_1 & ~cond_2, 'minage'].mean()"
   ]
  },
  {
   "cell_type": "code",
   "execution_count": 61,
   "metadata": {
    "collapsed": false
   },
   "outputs": [
    {
     "data": {
      "text/plain": [
       "4.950326797385621"
      ]
     },
     "execution_count": 61,
     "metadata": {},
     "output_type": "execute_result"
    }
   ],
   "source": [
    "mean_age_children"
   ]
  },
  {
   "cell_type": "code",
   "execution_count": 62,
   "metadata": {
    "collapsed": false
   },
   "outputs": [],
   "source": [
    "games_cleaned.loc[cond_1 & cond_2, 'minage'] = mean_age_children"
   ]
  },
  {
   "cell_type": "code",
   "execution_count": 63,
   "metadata": {
    "collapsed": false
   },
   "outputs": [
    {
     "data": {
      "text/plain": [
       "<matplotlib.axes._subplots.AxesSubplot at 0x1f1f4f15e48>"
      ]
     },
     "execution_count": 63,
     "metadata": {},
     "output_type": "execute_result"
    },
    {
     "data": {
      "image/png": "[encoded data removed]",
      "text/plain": [
       "<matplotlib.figure.Figure at 0x1f186b238d0>"
      ]
     },
     "metadata": {},
     "output_type": "display_data"
    }
   ],
   "source": [
    "games_cleaned[games_cleaned['Party Game']==1]['minage'].hist(bins=50)"
   ]
  },
  {
   "cell_type": "code",
   "execution_count": 64,
   "metadata": {
    "collapsed": false
   },
   "outputs": [
    {
     "data": {
      "text/html": [
       "<div>\n",
       "<table border=\"1\" class=\"dataframe\">\n",
       "  <thead>\n",
       "    <tr style=\"text-align: right;\">\n",
       "      <th></th>\n",
       "      <th>name</th>\n",
       "      <th>minage</th>\n",
       "    </tr>\n",
       "  </thead>\n",
       "  <tbody>\n",
       "    <tr>\n",
       "      <th>26264</th>\n",
       "      <td>The BGG Admin Game: The Octavian Edition</td>\n",
       "      <td>99.0</td>\n",
       "    </tr>\n",
       "    <tr>\n",
       "      <th>52619</th>\n",
       "      <td>Kill dog</td>\n",
       "      <td>30.0</td>\n",
       "    </tr>\n",
       "  </tbody>\n",
       "</table>\n",
       "</div>"
      ],
      "text/plain": [
       "                                           name  minage\n",
       "26264  The BGG Admin Game: The Octavian Edition    99.0\n",
       "52619                                  Kill dog    30.0"
      ]
     },
     "execution_count": 64,
     "metadata": {},
     "output_type": "execute_result"
    }
   ],
   "source": [
    "cond_1 = games_cleaned['Party Game'] == 1\n",
    "cond_2 = games_cleaned['minage'] > 25\n",
    "games_cleaned[cond_1 & cond_2][['name', 'minage']]"
   ]
  },
  {
   "cell_type": "code",
   "execution_count": 65,
   "metadata": {
    "collapsed": false
   },
   "outputs": [],
   "source": [
    "mean_age_party = games_cleaned[games_cleaned['Party Game'] == 1]['minage'].mean()"
   ]
  },
  {
   "cell_type": "code",
   "execution_count": 66,
   "metadata": {
    "collapsed": false
   },
   "outputs": [],
   "source": [
    "games_cleaned.loc[26264, 'minage'] = mean_age_party"
   ]
  },
  {
   "cell_type": "code",
   "execution_count": 67,
   "metadata": {
    "collapsed": false
   },
   "outputs": [
    {
     "data": {
      "text/plain": [
       "<matplotlib.axes._subplots.AxesSubplot at 0x1f189077e10>"
      ]
     },
     "execution_count": 67,
     "metadata": {},
     "output_type": "execute_result"
    },
    {
     "data": {
      "image/png": "[encoded data removed]",
      "text/plain": [
       "<matplotlib.figure.Figure at 0x1f1f4f2b240>"
      ]
     },
     "metadata": {},
     "output_type": "display_data"
    }
   ],
   "source": [
    "games_cleaned[games_cleaned['Party Game'] == 1]['minplayers'].hist()"
   ]
  },
  {
   "cell_type": "code",
   "execution_count": 68,
   "metadata": {
    "collapsed": false
   },
   "outputs": [
    {
     "name": "stdout",
     "output_type": "stream",
     "text": [
      "142\n"
     ]
    },
    {
     "data": {
      "text/html": [
       "<div>\n",
       "<table border=\"1\" class=\"dataframe\">\n",
       "  <thead>\n",
       "    <tr style=\"text-align: right;\">\n",
       "      <th></th>\n",
       "      <th>name</th>\n",
       "      <th>minplayers</th>\n",
       "      <th>maxplayers</th>\n",
       "    </tr>\n",
       "  </thead>\n",
       "  <tbody>\n",
       "    <tr>\n",
       "      <th>108</th>\n",
       "      <td>Collector's Edition Girls' Night StoryClub</td>\n",
       "      <td>2.0</td>\n",
       "      <td>2.0</td>\n",
       "    </tr>\n",
       "    <tr>\n",
       "      <th>486</th>\n",
       "      <td>Guts the Game</td>\n",
       "      <td>2.0</td>\n",
       "      <td>2.0</td>\n",
       "    </tr>\n",
       "    <tr>\n",
       "      <th>1710</th>\n",
       "      <td>SHOC</td>\n",
       "      <td>2.0</td>\n",
       "      <td>2.0</td>\n",
       "    </tr>\n",
       "    <tr>\n",
       "      <th>3934</th>\n",
       "      <td>The Big Payoff</td>\n",
       "      <td>2.0</td>\n",
       "      <td>2.0</td>\n",
       "    </tr>\n",
       "    <tr>\n",
       "      <th>4824</th>\n",
       "      <td>Cranium Letter Line-Up</td>\n",
       "      <td>2.0</td>\n",
       "      <td>2.0</td>\n",
       "    </tr>\n",
       "    <tr>\n",
       "      <th>6299</th>\n",
       "      <td>Scene it? Jr.</td>\n",
       "      <td>2.0</td>\n",
       "      <td>2.0</td>\n",
       "    </tr>\n",
       "    <tr>\n",
       "      <th>6739</th>\n",
       "      <td>Hannah Montana Girl Talk</td>\n",
       "      <td>2.0</td>\n",
       "      <td>2.0</td>\n",
       "    </tr>\n",
       "    <tr>\n",
       "      <th>9774</th>\n",
       "      <td>Be A Bard</td>\n",
       "      <td>2.0</td>\n",
       "      <td>2.0</td>\n",
       "    </tr>\n",
       "    <tr>\n",
       "      <th>10300</th>\n",
       "      <td>Vidi Kompaktspiel</td>\n",
       "      <td>2.0</td>\n",
       "      <td>2.0</td>\n",
       "    </tr>\n",
       "    <tr>\n",
       "      <th>11964</th>\n",
       "      <td>Mr. Peter Piper</td>\n",
       "      <td>2.0</td>\n",
       "      <td>2.0</td>\n",
       "    </tr>\n",
       "  </tbody>\n",
       "</table>\n",
       "</div>"
      ],
      "text/plain": [
       "                                             name  minplayers  maxplayers\n",
       "108    Collector's Edition Girls' Night StoryClub         2.0         2.0\n",
       "486                                 Guts the Game         2.0         2.0\n",
       "1710                                         SHOC         2.0         2.0\n",
       "3934                               The Big Payoff         2.0         2.0\n",
       "4824                       Cranium Letter Line-Up         2.0         2.0\n",
       "6299                                Scene it? Jr.         2.0         2.0\n",
       "6739                     Hannah Montana Girl Talk         2.0         2.0\n",
       "9774                                    Be A Bard         2.0         2.0\n",
       "10300                           Vidi Kompaktspiel         2.0         2.0\n",
       "11964                             Mr. Peter Piper         2.0         2.0"
      ]
     },
     "execution_count": 68,
     "metadata": {},
     "output_type": "execute_result"
    }
   ],
   "source": [
    "cond_1 = games_cleaned['Party Game'] == 1\n",
    "cond_2 = games_cleaned['maxplayers'] < 3\n",
    "print((cond_1 & cond_2).sum())\n",
    "games_cleaned[cond_1 & cond_2][['name', 'minplayers', 'maxplayers']].head(10)"
   ]
  },
  {
   "cell_type": "code",
   "execution_count": 69,
   "metadata": {
    "collapsed": false
   },
   "outputs": [],
   "source": [
    "mean_maxplayers_party = games_cleaned[cond_1 & ~cond_2]['maxplayers'].mean()"
   ]
  },
  {
   "cell_type": "code",
   "execution_count": 70,
   "metadata": {
    "collapsed": false
   },
   "outputs": [],
   "source": [
    "games_cleaned.loc[cond_1 & cond_2, 'maxplayers'] = mean_maxplayers_party"
   ]
  },
  {
   "cell_type": "code",
   "execution_count": 71,
   "metadata": {
    "collapsed": true
   },
   "outputs": [],
   "source": [
    "features = [feature for feature in games_cleaned.columns if feature not in mech_list + cate_list]"
   ]
  },
  {
   "cell_type": "code",
   "execution_count": 72,
   "metadata": {
    "collapsed": false
   },
   "outputs": [
    {
     "data": {
      "text/html": [
       "<div>\n",
       "<table border=\"1\" class=\"dataframe\">\n",
       "  <thead>\n",
       "    <tr style=\"text-align: right;\">\n",
       "      <th></th>\n",
       "      <th>id</th>\n",
       "      <th>n_names</th>\n",
       "      <th>yearpublished</th>\n",
       "      <th>minplayers</th>\n",
       "      <th>maxplayers</th>\n",
       "      <th>playingtime</th>\n",
       "      <th>minplaytime</th>\n",
       "      <th>maxplaytime</th>\n",
       "      <th>minage</th>\n",
       "      <th>users_rated</th>\n",
       "      <th>average_rating</th>\n",
       "      <th>bayes_average_rating</th>\n",
       "      <th>total_owners</th>\n",
       "      <th>total_traders</th>\n",
       "      <th>total_wanters</th>\n",
       "      <th>total_wishers</th>\n",
       "      <th>total_comments</th>\n",
       "      <th>total_weights</th>\n",
       "      <th>average_weight</th>\n",
       "    </tr>\n",
       "  </thead>\n",
       "  <tbody>\n",
       "    <tr>\n",
       "      <th>count</th>\n",
       "      <td>44564.000000</td>\n",
       "      <td>44564.000000</td>\n",
       "      <td>44564.000000</td>\n",
       "      <td>44564.000000</td>\n",
       "      <td>44564.000000</td>\n",
       "      <td>44564.000000</td>\n",
       "      <td>44564.000000</td>\n",
       "      <td>44564.000000</td>\n",
       "      <td>44564.000000</td>\n",
       "      <td>44564.000000</td>\n",
       "      <td>44564.000000</td>\n",
       "      <td>44564.000000</td>\n",
       "      <td>44564.000000</td>\n",
       "      <td>44564.000000</td>\n",
       "      <td>44564.000000</td>\n",
       "      <td>44564.000000</td>\n",
       "      <td>44564.000000</td>\n",
       "      <td>44564.000000</td>\n",
       "      <td>44564.000000</td>\n",
       "    </tr>\n",
       "    <tr>\n",
       "      <th>mean</th>\n",
       "      <td>79238.000942</td>\n",
       "      <td>1.554753</td>\n",
       "      <td>2001.083206</td>\n",
       "      <td>2.055269</td>\n",
       "      <td>5.926932</td>\n",
       "      <td>68.359034</td>\n",
       "      <td>60.998743</td>\n",
       "      <td>68.359034</td>\n",
       "      <td>7.895838</td>\n",
       "      <td>196.204313</td>\n",
       "      <td>4.583616</td>\n",
       "      <td>1.463719</td>\n",
       "      <td>308.949197</td>\n",
       "      <td>11.611996</td>\n",
       "      <td>13.266605</td>\n",
       "      <td>51.472534</td>\n",
       "      <td>57.054349</td>\n",
       "      <td>17.424558</td>\n",
       "      <td>1.029180</td>\n",
       "    </tr>\n",
       "    <tr>\n",
       "      <th>std</th>\n",
       "      <td>68164.220203</td>\n",
       "      <td>4.437296</td>\n",
       "      <td>15.888733</td>\n",
       "      <td>0.727093</td>\n",
       "      <td>73.117442</td>\n",
       "      <td>446.678216</td>\n",
       "      <td>429.529777</td>\n",
       "      <td>446.678216</td>\n",
       "      <td>4.491565</td>\n",
       "      <td>1382.883221</td>\n",
       "      <td>2.679284</td>\n",
       "      <td>2.514378</td>\n",
       "      <td>1860.015319</td>\n",
       "      <td>47.553244</td>\n",
       "      <td>65.663142</td>\n",
       "      <td>292.652773</td>\n",
       "      <td>314.151647</td>\n",
       "      <td>118.908536</td>\n",
       "      <td>1.151054</td>\n",
       "    </tr>\n",
       "    <tr>\n",
       "      <th>min</th>\n",
       "      <td>1.000000</td>\n",
       "      <td>1.000000</td>\n",
       "      <td>1901.000000</td>\n",
       "      <td>1.000000</td>\n",
       "      <td>1.000000</td>\n",
       "      <td>1.000000</td>\n",
       "      <td>1.000000</td>\n",
       "      <td>1.000000</td>\n",
       "      <td>0.000000</td>\n",
       "      <td>0.000000</td>\n",
       "      <td>0.000000</td>\n",
       "      <td>0.000000</td>\n",
       "      <td>0.000000</td>\n",
       "      <td>0.000000</td>\n",
       "      <td>0.000000</td>\n",
       "      <td>0.000000</td>\n",
       "      <td>0.000000</td>\n",
       "      <td>0.000000</td>\n",
       "      <td>0.000000</td>\n",
       "    </tr>\n",
       "    <tr>\n",
       "      <th>25%</th>\n",
       "      <td>18187.750000</td>\n",
       "      <td>1.000000</td>\n",
       "      <td>1994.000000</td>\n",
       "      <td>2.000000</td>\n",
       "      <td>3.000000</td>\n",
       "      <td>20.000000</td>\n",
       "      <td>20.000000</td>\n",
       "      <td>20.000000</td>\n",
       "      <td>5.000000</td>\n",
       "      <td>1.000000</td>\n",
       "      <td>3.000000</td>\n",
       "      <td>0.000000</td>\n",
       "      <td>2.000000</td>\n",
       "      <td>0.000000</td>\n",
       "      <td>0.000000</td>\n",
       "      <td>0.000000</td>\n",
       "      <td>0.000000</td>\n",
       "      <td>0.000000</td>\n",
       "      <td>0.000000</td>\n",
       "    </tr>\n",
       "    <tr>\n",
       "      <th>50%</th>\n",
       "      <td>49702.500000</td>\n",
       "      <td>1.000000</td>\n",
       "      <td>2006.000000</td>\n",
       "      <td>2.000000</td>\n",
       "      <td>4.000000</td>\n",
       "      <td>30.000000</td>\n",
       "      <td>30.000000</td>\n",
       "      <td>30.000000</td>\n",
       "      <td>8.000000</td>\n",
       "      <td>4.000000</td>\n",
       "      <td>5.540840</td>\n",
       "      <td>0.000000</td>\n",
       "      <td>11.000000</td>\n",
       "      <td>0.000000</td>\n",
       "      <td>0.000000</td>\n",
       "      <td>2.000000</td>\n",
       "      <td>2.000000</td>\n",
       "      <td>1.000000</td>\n",
       "      <td>1.000000</td>\n",
       "    </tr>\n",
       "    <tr>\n",
       "      <th>75%</th>\n",
       "      <td>143767.500000</td>\n",
       "      <td>1.000000</td>\n",
       "      <td>2012.000000</td>\n",
       "      <td>2.000000</td>\n",
       "      <td>6.000000</td>\n",
       "      <td>60.000000</td>\n",
       "      <td>60.000000</td>\n",
       "      <td>60.000000</td>\n",
       "      <td>12.000000</td>\n",
       "      <td>31.000000</td>\n",
       "      <td>6.542488</td>\n",
       "      <td>5.380682</td>\n",
       "      <td>78.000000</td>\n",
       "      <td>4.000000</td>\n",
       "      <td>3.000000</td>\n",
       "      <td>10.000000</td>\n",
       "      <td>15.000000</td>\n",
       "      <td>4.000000</td>\n",
       "      <td>2.000000</td>\n",
       "    </tr>\n",
       "    <tr>\n",
       "      <th>max</th>\n",
       "      <td>218270.000000</td>\n",
       "      <td>764.000000</td>\n",
       "      <td>2017.000000</td>\n",
       "      <td>10.000000</td>\n",
       "      <td>11299.000000</td>\n",
       "      <td>60120.000000</td>\n",
       "      <td>60120.000000</td>\n",
       "      <td>60120.000000</td>\n",
       "      <td>90.000000</td>\n",
       "      <td>64926.000000</td>\n",
       "      <td>10.000000</td>\n",
       "      <td>8.464010</td>\n",
       "      <td>90720.000000</td>\n",
       "      <td>1763.000000</td>\n",
       "      <td>1740.000000</td>\n",
       "      <td>8394.000000</td>\n",
       "      <td>13492.000000</td>\n",
       "      <td>6366.000000</td>\n",
       "      <td>5.000000</td>\n",
       "    </tr>\n",
       "  </tbody>\n",
       "</table>\n",
       "</div>"
      ],
      "text/plain": [
       "                  id       n_names  yearpublished    minplayers    maxplayers  \\\n",
       "count   44564.000000  44564.000000   44564.000000  44564.000000  44564.000000   \n",
       "mean    79238.000942      1.554753    2001.083206      2.055269      5.926932   \n",
       "std     68164.220203      4.437296      15.888733      0.727093     73.117442   \n",
       "min         1.000000      1.000000    1901.000000      1.000000      1.000000   \n",
       "25%     18187.750000      1.000000    1994.000000      2.000000      3.000000   \n",
       "50%     49702.500000      1.000000    2006.000000      2.000000      4.000000   \n",
       "75%    143767.500000      1.000000    2012.000000      2.000000      6.000000   \n",
       "max    218270.000000    764.000000    2017.000000     10.000000  11299.000000   \n",
       "\n",
       "        playingtime   minplaytime   maxplaytime        minage   users_rated  \\\n",
       "count  44564.000000  44564.000000  44564.000000  44564.000000  44564.000000   \n",
       "mean      68.359034     60.998743     68.359034      7.895838    196.204313   \n",
       "std      446.678216    429.529777    446.678216      4.491565   1382.883221   \n",
       "min        1.000000      1.000000      1.000000      0.000000      0.000000   \n",
       "25%       20.000000     20.000000     20.000000      5.000000      1.000000   \n",
       "50%       30.000000     30.000000     30.000000      8.000000      4.000000   \n",
       "75%       60.000000     60.000000     60.000000     12.000000     31.000000   \n",
       "max    60120.000000  60120.000000  60120.000000     90.000000  64926.000000   \n",
       "\n",
       "       average_rating  bayes_average_rating  total_owners  total_traders  \\\n",
       "count    44564.000000          44564.000000  44564.000000   44564.000000   \n",
       "mean         4.583616              1.463719    308.949197      11.611996   \n",
       "std          2.679284              2.514378   1860.015319      47.553244   \n",
       "min          0.000000              0.000000      0.000000       0.000000   \n",
       "25%          3.000000              0.000000      2.000000       0.000000   \n",
       "50%          5.540840              0.000000     11.000000       0.000000   \n",
       "75%          6.542488              5.380682     78.000000       4.000000   \n",
       "max         10.000000              8.464010  90720.000000    1763.000000   \n",
       "\n",
       "       total_wanters  total_wishers  total_comments  total_weights  \\\n",
       "count   44564.000000   44564.000000    44564.000000   44564.000000   \n",
       "mean       13.266605      51.472534       57.054349      17.424558   \n",
       "std        65.663142     292.652773      314.151647     118.908536   \n",
       "min         0.000000       0.000000        0.000000       0.000000   \n",
       "25%         0.000000       0.000000        0.000000       0.000000   \n",
       "50%         0.000000       2.000000        2.000000       1.000000   \n",
       "75%         3.000000      10.000000       15.000000       4.000000   \n",
       "max      1740.000000    8394.000000    13492.000000    6366.000000   \n",
       "\n",
       "       average_weight  \n",
       "count    44564.000000  \n",
       "mean         1.029180  \n",
       "std          1.151054  \n",
       "min          0.000000  \n",
       "25%          0.000000  \n",
       "50%          1.000000  \n",
       "75%          2.000000  \n",
       "max          5.000000  "
      ]
     },
     "execution_count": 72,
     "metadata": {},
     "output_type": "execute_result"
    }
   ],
   "source": [
    "games_cleaned[features].describe()"
   ]
  },
  {
   "cell_type": "code",
   "execution_count": 75,
   "metadata": {
    "collapsed": false
   },
   "outputs": [
    {
     "data": {
      "text/plain": [
       "44564"
      ]
     },
     "execution_count": 75,
     "metadata": {},
     "output_type": "execute_result"
    }
   ],
   "source": [
    "games_cleaned.shape[0]"
   ]
  },
  {
   "cell_type": "code",
   "execution_count": 73,
   "metadata": {
    "collapsed": true
   },
   "outputs": [],
   "source": [
    "games_cleaned.to_csv('./data/games_detail_cleaned.csv', encoding='utf-8', index=False)"
   ]
  },
  {
   "cell_type": "code",
   "execution_count": 76,
   "metadata": {
    "collapsed": false
   },
   "outputs": [
    {
     "data": {
      "text/plain": [
       "0"
      ]
     },
     "execution_count": 76,
     "metadata": {},
     "output_type": "execute_result"
    }
   ],
   "source": [
    "os.system('jupyter nbconvert --to html 00_cleaning_00.ipynb')"
   ]
  },
  {
   "cell_type": "code",
   "execution_count": null,
   "metadata": {
    "collapsed": true
   },
   "outputs": [],
   "source": []
  }
 ],
 "metadata": {
  "anaconda-cloud": {},
  "kernelspec": {
   "display_name": "Python [default]",
   "language": "python",
   "name": "python3"
  },
  "language_info": {
   "codemirror_mode": {
    "name": "ipython",
    "version": 3
   },
   "file_extension": ".py",
   "mimetype": "text/x-python",
   "name": "python",
   "nbconvert_exporter": "python",
   "pygments_lexer": "ipython3",
   "version": "3.5.2"
  }
 },
 "nbformat": 4,
 "nbformat_minor": 1
}
